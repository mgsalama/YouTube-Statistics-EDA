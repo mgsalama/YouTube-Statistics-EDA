{
 "cells": [
  {
   "cell_type": "markdown",
   "id": "76a2d42e",
   "metadata": {},
   "source": [
    "# A Look Into YouTube Video Statistics"
   ]
  },
  {
   "cell_type": "markdown",
   "id": "2abdd962",
   "metadata": {},
   "source": [
    "**Hello!** My name is Manaar Salama, and this Jupyter Notebook is a small, basic project that I used in a data science challenge for an internship program I applied for.\n",
    "\n",
    "For this project, I spent some time considering which topic I would be most interested in finding a dataset on. I ended up deciding on taking a look into **YouTube video statistics**, as I'm a regular consumer of content on YouTube and haven't had a chance to explore a dataset in this topic yet.\n",
    "\n",
    "I downloaded this dataset by user Advay Patil from Kaggle. The link to the original dataset can be found [here.](https://www.kaggle.com/datasets/advaypatil/youtube-statistics)"
   ]
  },
  {
   "cell_type": "markdown",
   "id": "c80f0ce1",
   "metadata": {},
   "source": [
    "There were a few main questions I wanted to explore after taking an initial look at this dataset. \n",
    "- Is there any basic relationship between the number of likes and comments?\n",
    "- What can we find when taking a look at the `machine learning` keyword in the YouTube search?\n",
    "- What information can we discover when we group our data together by keyword?"
   ]
  },
  {
   "cell_type": "markdown",
   "id": "a3762476",
   "metadata": {},
   "source": [
    "**Note:** The original version of this notebook was created in the latter half of 2022. However, since this notebook is publicly available on my GitHub, I wanted to clean it up a bit, so I'm making another pass through it in January 2025 to clean up the graphs and add more explanatory text."
   ]
  },
  {
   "cell_type": "markdown",
   "id": "ed8f3df3",
   "metadata": {},
   "source": [
    "## Importing Libraries & Initializing DataFrame"
   ]
  },
  {
   "cell_type": "code",
   "execution_count": 1,
   "id": "3f6d4e62",
   "metadata": {},
   "outputs": [
    {
     "name": "stdout",
     "output_type": "stream",
     "text": [
      "Requirement already satisfied: plotly in c:\\users\\msala\\anaconda3\\lib\\site-packages (5.9.0)\n",
      "Requirement already satisfied: tenacity>=6.2.0 in c:\\users\\msala\\anaconda3\\lib\\site-packages (from plotly) (8.0.1)\n"
     ]
    }
   ],
   "source": [
    "!pip install plotly"
   ]
  },
  {
   "cell_type": "code",
   "execution_count": 2,
   "id": "57d9fdc2",
   "metadata": {},
   "outputs": [],
   "source": [
    "import numpy as np\n",
    "import pandas as pd\n",
    "import matplotlib.pyplot as plt\n",
    "import plotly.express as px\n",
    "\n",
    "plt.style.use('fivethirtyeight')"
   ]
  },
  {
   "cell_type": "code",
   "execution_count": 3,
   "id": "0baaae05",
   "metadata": {},
   "outputs": [
    {
     "data": {
      "text/html": [
       "<div>\n",
       "<style scoped>\n",
       "    .dataframe tbody tr th:only-of-type {\n",
       "        vertical-align: middle;\n",
       "    }\n",
       "\n",
       "    .dataframe tbody tr th {\n",
       "        vertical-align: top;\n",
       "    }\n",
       "\n",
       "    .dataframe thead th {\n",
       "        text-align: right;\n",
       "    }\n",
       "</style>\n",
       "<table border=\"1\" class=\"dataframe\">\n",
       "  <thead>\n",
       "    <tr style=\"text-align: right;\">\n",
       "      <th></th>\n",
       "      <th>Title</th>\n",
       "      <th>Video ID</th>\n",
       "      <th>Published At</th>\n",
       "      <th>Keyword</th>\n",
       "      <th>Likes</th>\n",
       "      <th>Comments</th>\n",
       "      <th>Views</th>\n",
       "    </tr>\n",
       "  </thead>\n",
       "  <tbody>\n",
       "    <tr>\n",
       "      <th>0</th>\n",
       "      <td>Apple Pay Is Killing the Physical Wallet After...</td>\n",
       "      <td>wAZZ-UWGVHI</td>\n",
       "      <td>2022-08-23</td>\n",
       "      <td>tech</td>\n",
       "      <td>3407.0</td>\n",
       "      <td>672.0</td>\n",
       "      <td>135612.0</td>\n",
       "    </tr>\n",
       "    <tr>\n",
       "      <th>1</th>\n",
       "      <td>The most EXPENSIVE thing I own.</td>\n",
       "      <td>b3x28s61q3c</td>\n",
       "      <td>2022-08-24</td>\n",
       "      <td>tech</td>\n",
       "      <td>76779.0</td>\n",
       "      <td>4306.0</td>\n",
       "      <td>1758063.0</td>\n",
       "    </tr>\n",
       "    <tr>\n",
       "      <th>2</th>\n",
       "      <td>My New House Gaming Setup is SICK!</td>\n",
       "      <td>4mgePWWCAmA</td>\n",
       "      <td>2022-08-23</td>\n",
       "      <td>tech</td>\n",
       "      <td>63825.0</td>\n",
       "      <td>3338.0</td>\n",
       "      <td>1564007.0</td>\n",
       "    </tr>\n",
       "    <tr>\n",
       "      <th>3</th>\n",
       "      <td>Petrol Vs Liquid Nitrogen | Freezing Experimen...</td>\n",
       "      <td>kXiYSI7H2b0</td>\n",
       "      <td>2022-08-23</td>\n",
       "      <td>tech</td>\n",
       "      <td>71566.0</td>\n",
       "      <td>1426.0</td>\n",
       "      <td>922918.0</td>\n",
       "    </tr>\n",
       "    <tr>\n",
       "      <th>4</th>\n",
       "      <td>Best Back to School Tech 2022!</td>\n",
       "      <td>ErMwWXQxHp0</td>\n",
       "      <td>2022-08-08</td>\n",
       "      <td>tech</td>\n",
       "      <td>96513.0</td>\n",
       "      <td>5155.0</td>\n",
       "      <td>1855644.0</td>\n",
       "    </tr>\n",
       "  </tbody>\n",
       "</table>\n",
       "</div>"
      ],
      "text/plain": [
       "                                               Title     Video ID  \\\n",
       "0  Apple Pay Is Killing the Physical Wallet After...  wAZZ-UWGVHI   \n",
       "1                    The most EXPENSIVE thing I own.  b3x28s61q3c   \n",
       "2                 My New House Gaming Setup is SICK!  4mgePWWCAmA   \n",
       "3  Petrol Vs Liquid Nitrogen | Freezing Experimen...  kXiYSI7H2b0   \n",
       "4                     Best Back to School Tech 2022!  ErMwWXQxHp0   \n",
       "\n",
       "  Published At Keyword    Likes  Comments      Views  \n",
       "0   2022-08-23    tech   3407.0     672.0   135612.0  \n",
       "1   2022-08-24    tech  76779.0    4306.0  1758063.0  \n",
       "2   2022-08-23    tech  63825.0    3338.0  1564007.0  \n",
       "3   2022-08-23    tech  71566.0    1426.0   922918.0  \n",
       "4   2022-08-08    tech  96513.0    5155.0  1855644.0  "
      ]
     },
     "execution_count": 3,
     "metadata": {},
     "output_type": "execute_result"
    }
   ],
   "source": [
    "stats = pd.read_csv(\"stats.csv\", index_col = [0])\n",
    "stats.head(5)"
   ]
  },
  {
   "cell_type": "markdown",
   "id": "724f93ae",
   "metadata": {},
   "source": [
    "Using basic methods and functions like `df.shape` and `df.describe()`, we can discover some barebones information about our dataset, including how many rows and columns it has, as well as what some of the statistics (such as the median, minimum, and maximum values) about the numerical columns that the dataset contains."
   ]
  },
  {
   "cell_type": "code",
   "execution_count": 4,
   "id": "ac52c063",
   "metadata": {},
   "outputs": [
    {
     "data": {
      "text/plain": [
       "(1881, 7)"
      ]
     },
     "execution_count": 4,
     "metadata": {},
     "output_type": "execute_result"
    }
   ],
   "source": [
    "stats.shape"
   ]
  },
  {
   "cell_type": "code",
   "execution_count": 5,
   "id": "0132376a",
   "metadata": {},
   "outputs": [
    {
     "data": {
      "text/html": [
       "<div>\n",
       "<style scoped>\n",
       "    .dataframe tbody tr th:only-of-type {\n",
       "        vertical-align: middle;\n",
       "    }\n",
       "\n",
       "    .dataframe tbody tr th {\n",
       "        vertical-align: top;\n",
       "    }\n",
       "\n",
       "    .dataframe thead th {\n",
       "        text-align: right;\n",
       "    }\n",
       "</style>\n",
       "<table border=\"1\" class=\"dataframe\">\n",
       "  <thead>\n",
       "    <tr style=\"text-align: right;\">\n",
       "      <th></th>\n",
       "      <th>Likes</th>\n",
       "      <th>Comments</th>\n",
       "      <th>Views</th>\n",
       "    </tr>\n",
       "  </thead>\n",
       "  <tbody>\n",
       "    <tr>\n",
       "      <th>count</th>\n",
       "      <td>1.879000e+03</td>\n",
       "      <td>1879.000000</td>\n",
       "      <td>1.879000e+03</td>\n",
       "    </tr>\n",
       "    <tr>\n",
       "      <th>mean</th>\n",
       "      <td>1.700610e+05</td>\n",
       "      <td>7863.331559</td>\n",
       "      <td>1.161292e+07</td>\n",
       "    </tr>\n",
       "    <tr>\n",
       "      <th>std</th>\n",
       "      <td>7.962293e+05</td>\n",
       "      <td>37879.964926</td>\n",
       "      <td>1.084450e+08</td>\n",
       "    </tr>\n",
       "    <tr>\n",
       "      <th>min</th>\n",
       "      <td>-1.000000e+00</td>\n",
       "      <td>-1.000000</td>\n",
       "      <td>2.500000e+01</td>\n",
       "    </tr>\n",
       "    <tr>\n",
       "      <th>25%</th>\n",
       "      <td>2.672500e+03</td>\n",
       "      <td>199.000000</td>\n",
       "      <td>8.451500e+04</td>\n",
       "    </tr>\n",
       "    <tr>\n",
       "      <th>50%</th>\n",
       "      <td>1.478700e+04</td>\n",
       "      <td>814.000000</td>\n",
       "      <td>5.917210e+05</td>\n",
       "    </tr>\n",
       "    <tr>\n",
       "      <th>75%</th>\n",
       "      <td>6.090600e+04</td>\n",
       "      <td>3377.500000</td>\n",
       "      <td>2.804978e+06</td>\n",
       "    </tr>\n",
       "    <tr>\n",
       "      <th>max</th>\n",
       "      <td>1.644556e+07</td>\n",
       "      <td>732818.000000</td>\n",
       "      <td>4.034122e+09</td>\n",
       "    </tr>\n",
       "  </tbody>\n",
       "</table>\n",
       "</div>"
      ],
      "text/plain": [
       "              Likes       Comments         Views\n",
       "count  1.879000e+03    1879.000000  1.879000e+03\n",
       "mean   1.700610e+05    7863.331559  1.161292e+07\n",
       "std    7.962293e+05   37879.964926  1.084450e+08\n",
       "min   -1.000000e+00      -1.000000  2.500000e+01\n",
       "25%    2.672500e+03     199.000000  8.451500e+04\n",
       "50%    1.478700e+04     814.000000  5.917210e+05\n",
       "75%    6.090600e+04    3377.500000  2.804978e+06\n",
       "max    1.644556e+07  732818.000000  4.034122e+09"
      ]
     },
     "execution_count": 5,
     "metadata": {},
     "output_type": "execute_result"
    }
   ],
   "source": [
    "stats.describe()"
   ]
  },
  {
   "cell_type": "markdown",
   "id": "58aaa470",
   "metadata": {},
   "source": [
    "Our dataset contains `1881` rows and `7` columns. Additionally, the YouTube videos sampled in this dataset appear to be quite skewed in one direction with regards to engagement metrics -- for example, while the median number of comments per video is only `814`, the mean number of comments lies at `7,863`, signifying that this dataset contains some very popular videos with high engagement rates.\n",
    "\n",
    "We can also observe that the minimum values for likes and comments on a video appears to be `-1`. This is a bit peculiar, so we can further investigate which videos have this negative number."
   ]
  },
  {
   "cell_type": "code",
   "execution_count": 6,
   "id": "5f127fd1",
   "metadata": {},
   "outputs": [
    {
     "data": {
      "text/html": [
       "<div>\n",
       "<style scoped>\n",
       "    .dataframe tbody tr th:only-of-type {\n",
       "        vertical-align: middle;\n",
       "    }\n",
       "\n",
       "    .dataframe tbody tr th {\n",
       "        vertical-align: top;\n",
       "    }\n",
       "\n",
       "    .dataframe thead th {\n",
       "        text-align: right;\n",
       "    }\n",
       "</style>\n",
       "<table border=\"1\" class=\"dataframe\">\n",
       "  <thead>\n",
       "    <tr style=\"text-align: right;\">\n",
       "      <th></th>\n",
       "      <th>Title</th>\n",
       "      <th>Video ID</th>\n",
       "      <th>Published At</th>\n",
       "      <th>Keyword</th>\n",
       "      <th>Likes</th>\n",
       "      <th>Comments</th>\n",
       "      <th>Views</th>\n",
       "    </tr>\n",
       "  </thead>\n",
       "  <tbody>\n",
       "    <tr>\n",
       "      <th>1701</th>\n",
       "      <td>SURVIVOR 🦀🦂 Best Action Movies 2022 🦀🦂 Latest ...</td>\n",
       "      <td>__7MkaWFObQ</td>\n",
       "      <td>2022-08-20</td>\n",
       "      <td>movies</td>\n",
       "      <td>105.0</td>\n",
       "      <td>-1.0</td>\n",
       "      <td>28219.0</td>\n",
       "    </tr>\n",
       "    <tr>\n",
       "      <th>1709</th>\n",
       "      <td>BEST Auditions Of Songs From Movies | Amazing ...</td>\n",
       "      <td>ZcBBGC8_mfU</td>\n",
       "      <td>2022-07-25</td>\n",
       "      <td>movies</td>\n",
       "      <td>20138.0</td>\n",
       "      <td>-1.0</td>\n",
       "      <td>5351960.0</td>\n",
       "    </tr>\n",
       "  </tbody>\n",
       "</table>\n",
       "</div>"
      ],
      "text/plain": [
       "                                                  Title     Video ID  \\\n",
       "1701  SURVIVOR 🦀🦂 Best Action Movies 2022 🦀🦂 Latest ...  __7MkaWFObQ   \n",
       "1709  BEST Auditions Of Songs From Movies | Amazing ...  ZcBBGC8_mfU   \n",
       "\n",
       "     Published At Keyword    Likes  Comments      Views  \n",
       "1701   2022-08-20  movies    105.0      -1.0    28219.0  \n",
       "1709   2022-07-25  movies  20138.0      -1.0  5351960.0  "
      ]
     },
     "execution_count": 6,
     "metadata": {},
     "output_type": "execute_result"
    }
   ],
   "source": [
    "stats[stats['Comments'] == -1]"
   ]
  },
  {
   "cell_type": "markdown",
   "id": "866549e8",
   "metadata": {},
   "source": [
    "Using the `Video ID` field, we can look up these videos on YouTube by plugging this ID into the URL directly with the structure `www.youtube.com/watch?v=video_ID_here`, in which the video ID acts as a URL parameter.\n",
    "\n",
    "Upon looking into these videos myself, I found that at the time of writing this (January 2025), these videos are unavailable on YouTube. This could explain the negative number of comments -- an unavailable videos' number of comments could potentially be represented as -1. However, it is also possible that these videos only recently became unavailable and were actually available to watch at the time that this dataset was published. Because of this, we cannot be totally sure that these videos being unavailable is what caused the number of comments to be represented as -1."
   ]
  },
  {
   "cell_type": "markdown",
   "id": "c4e2236f",
   "metadata": {},
   "source": [
    "## Data Cleaning and Manipulation: Removing Simple Null Values"
   ]
  },
  {
   "cell_type": "code",
   "execution_count": 7,
   "id": "d5813538",
   "metadata": {
    "scrolled": true
   },
   "outputs": [
    {
     "data": {
      "text/plain": [
       "Title           0\n",
       "Video ID        0\n",
       "Published At    0\n",
       "Keyword         0\n",
       "Likes           2\n",
       "Comments        2\n",
       "Views           2\n",
       "dtype: int64"
      ]
     },
     "execution_count": 7,
     "metadata": {},
     "output_type": "execute_result"
    }
   ],
   "source": [
    "stats.isna().sum()"
   ]
  },
  {
   "cell_type": "markdown",
   "id": "3c5abd84",
   "metadata": {},
   "source": [
    "This dataset appears to be relatively clean, with only a couple of rows containing null values for their number of likes, comments, and views. Before we do anything to these rows, we can look into which videos contained nulls for these fields."
   ]
  },
  {
   "cell_type": "code",
   "execution_count": 8,
   "id": "2b32d84d",
   "metadata": {},
   "outputs": [
    {
     "data": {
      "text/html": [
       "<div>\n",
       "<style scoped>\n",
       "    .dataframe tbody tr th:only-of-type {\n",
       "        vertical-align: middle;\n",
       "    }\n",
       "\n",
       "    .dataframe tbody tr th {\n",
       "        vertical-align: top;\n",
       "    }\n",
       "\n",
       "    .dataframe thead th {\n",
       "        text-align: right;\n",
       "    }\n",
       "</style>\n",
       "<table border=\"1\" class=\"dataframe\">\n",
       "  <thead>\n",
       "    <tr style=\"text-align: right;\">\n",
       "      <th></th>\n",
       "      <th>Title</th>\n",
       "      <th>Video ID</th>\n",
       "      <th>Published At</th>\n",
       "      <th>Keyword</th>\n",
       "      <th>Likes</th>\n",
       "      <th>Comments</th>\n",
       "      <th>Views</th>\n",
       "    </tr>\n",
       "  </thead>\n",
       "  <tbody>\n",
       "    <tr>\n",
       "      <th>1879</th>\n",
       "      <td>What is Machine Learning?</td>\n",
       "      <td>f_uwKZIAeM0</td>\n",
       "      <td>2017-01-11</td>\n",
       "      <td>machine learning</td>\n",
       "      <td>NaN</td>\n",
       "      <td>NaN</td>\n",
       "      <td>NaN</td>\n",
       "    </tr>\n",
       "    <tr>\n",
       "      <th>1880</th>\n",
       "      <td>Don&amp;#39;t learn machine learning</td>\n",
       "      <td>cyLWtMSry58</td>\n",
       "      <td>2020-03-30</td>\n",
       "      <td>machine learning</td>\n",
       "      <td>NaN</td>\n",
       "      <td>NaN</td>\n",
       "      <td>NaN</td>\n",
       "    </tr>\n",
       "  </tbody>\n",
       "</table>\n",
       "</div>"
      ],
      "text/plain": [
       "                                 Title     Video ID Published At  \\\n",
       "1879         What is Machine Learning?  f_uwKZIAeM0   2017-01-11   \n",
       "1880  Don&#39;t learn machine learning  cyLWtMSry58   2020-03-30   \n",
       "\n",
       "               Keyword  Likes  Comments  Views  \n",
       "1879  machine learning    NaN       NaN    NaN  \n",
       "1880  machine learning    NaN       NaN    NaN  "
      ]
     },
     "execution_count": 8,
     "metadata": {},
     "output_type": "execute_result"
    }
   ],
   "source": [
    "stats[stats['Comments'].isna()]"
   ]
  },
  {
   "cell_type": "markdown",
   "id": "e8b05e9c",
   "metadata": {},
   "source": [
    "Strangely enough, both of these videos are available on YouTube and can be reached via their video IDs at the time of writing this. Although we could impute these values since we have them available at the moment, there's a small data integrity issue here.\n",
    "\n",
    "The data for this set was cultivated in 2022, which means that for all of the other videos in this dataset, the view, like, and comment counts are from 2022. We have no easy way of knowing how many views, comments, or likes have been added to these two videos from 2022 - 2025. Therefore, imputing in the values for these two videos could potentially raise the view, like, and comment counts for videos in the `machine learning` keyword category. Therefore, it is probably best from a data integrity standpoint to just remove these rows altogether."
   ]
  },
  {
   "cell_type": "code",
   "execution_count": 9,
   "id": "c7a5923a",
   "metadata": {},
   "outputs": [],
   "source": [
    "stats = stats.dropna()"
   ]
  },
  {
   "cell_type": "code",
   "execution_count": 10,
   "id": "3a358d2e",
   "metadata": {
    "scrolled": true
   },
   "outputs": [
    {
     "data": {
      "text/plain": [
       "Title           0\n",
       "Video ID        0\n",
       "Published At    0\n",
       "Keyword         0\n",
       "Likes           0\n",
       "Comments        0\n",
       "Views           0\n",
       "dtype: int64"
      ]
     },
     "execution_count": 10,
     "metadata": {},
     "output_type": "execute_result"
    }
   ],
   "source": [
    "stats.isna().sum()"
   ]
  },
  {
   "cell_type": "markdown",
   "id": "7d006690",
   "metadata": {},
   "source": [
    "## Data Cleaning and Manipulation: Reducing Number of `Keyword`s"
   ]
  },
  {
   "cell_type": "markdown",
   "id": "147e2e5c",
   "metadata": {},
   "source": [
    "Next, to make our dataset easier to visualize, let's narrow down the `Keyword` field by keeping only the keywords that we're definitely interested in for the purposes of this analysis."
   ]
  },
  {
   "cell_type": "code",
   "execution_count": 11,
   "id": "c5351d10",
   "metadata": {},
   "outputs": [
    {
     "data": {
      "text/plain": [
       "array(['tech', 'news', 'gaming', 'sports', 'how-to', 'business',\n",
       "       'tutorial', 'finance', 'crypto', 'cubes', 'chess', 'apple',\n",
       "       'google', 'interview', 'history', 'literature', 'bed', 'trolling',\n",
       "       'asmr', 'music', 'food', 'mukbang', 'reaction', 'lofi', 'animals',\n",
       "       'education', 'minecraft', 'sat', 'mrbeast', 'cnn', 'mathchemistry',\n",
       "       'biology', 'physics', 'computer science', 'nintendo', 'xbox',\n",
       "       'marvel', 'movies', 'data science', 'game development',\n",
       "       'machine learning'], dtype=object)"
      ]
     },
     "execution_count": 11,
     "metadata": {},
     "output_type": "execute_result"
    }
   ],
   "source": [
    "stats[\"Keyword\"].unique()"
   ]
  },
  {
   "cell_type": "markdown",
   "id": "ca9daafe",
   "metadata": {},
   "source": [
    "When originally writing this notebook in 2022, I was most interested in the below keywords, due to the popularity of some of these topics at the time:"
   ]
  },
  {
   "cell_type": "code",
   "execution_count": 12,
   "id": "8f5929b5",
   "metadata": {},
   "outputs": [
    {
     "data": {
      "text/plain": [
       "array(['tech', 'news', 'gaming', 'sports', 'business', 'trolling',\n",
       "       'music', 'food', 'reaction', 'animals', 'education', 'minecraft',\n",
       "       'mrbeast', 'movies', 'data science', 'machine learning'],\n",
       "      dtype=object)"
      ]
     },
     "execution_count": 12,
     "metadata": {},
     "output_type": "execute_result"
    }
   ],
   "source": [
    "stats = stats[stats[\"Keyword\"].isin([\"animals\", \"business\", \"data science\", \"education\", \"food\", \n",
    "                                     \"gaming\", \"machine learning\", \"minecraft\", \"movies\", \"mrbeast\", \n",
    "                                     \"music\", \"news\", \"reaction\", \"sports\", \"tech\", \"trolling\"])]\n",
    "stats[\"Keyword\"].unique()"
   ]
  },
  {
   "cell_type": "markdown",
   "id": "5573be8b",
   "metadata": {},
   "source": [
    "## Analysis and Visualization: Exploring Relationship Between `Likes` and `Comments`"
   ]
  },
  {
   "cell_type": "markdown",
   "id": "43ff0e76",
   "metadata": {},
   "source": [
    "For this notebook, I chose to utilize the Plotly library for visualization, in order for the visualizations to be more interactive."
   ]
  },
  {
   "cell_type": "code",
   "execution_count": 13,
   "id": "76888c9c",
   "metadata": {},
   "outputs": [
    {
     "data": {
      "application/vnd.plotly.v1+json": {
       "config": {
        "plotlyServerURL": "https://plot.ly"
       },
       "data": [
        {
         "hovertemplate": "Likes=%{x}<br>Comments=%{y}<extra></extra>",
         "legendgroup": "",
         "marker": {
          "color": "#0099C6",
          "symbol": "circle"
         },
         "mode": "markers",
         "name": "",
         "orientation": "v",
         "showlegend": false,
         "type": "scatter",
         "x": [
          3407,
          76779,
          63825,
          71566,
          96513,
          33570,
          135047,
          216935,
          45565,
          24252,
          118001,
          20999,
          15322,
          17866,
          13217,
          26890,
          9562,
          11743,
          146978,
          363771,
          2117,
          42841,
          23689,
          55231,
          1289,
          970,
          1608,
          1452,
          35758,
          8725,
          110145,
          12188,
          59458,
          3494,
          36423,
          941,
          134194,
          42075,
          709,
          78852,
          32102,
          188623,
          343227,
          43960,
          77411,
          24,
          4492,
          51846,
          1029,
          534,
          8526,
          588,
          137,
          848,
          827,
          1200,
          1167,
          1573,
          1145,
          474,
          82,
          23828,
          775,
          8484,
          7946,
          510,
          129,
          1288,
          257,
          612,
          2385,
          6379,
          1009,
          5630,
          686,
          7277,
          695,
          15854,
          1030,
          198,
          7342,
          286,
          2083,
          1728,
          180,
          1102,
          1688,
          8384,
          63825,
          4163,
          2925,
          298406,
          549,
          2170,
          1365,
          3516,
          2481,
          2501,
          82449,
          1243,
          48710,
          29966,
          15842,
          3374,
          8260,
          1525,
          468,
          18208,
          3171,
          1204,
          10556,
          869,
          13492,
          358,
          2677,
          39872,
          46642,
          674,
          3495,
          789,
          3273,
          4484,
          2700,
          238193,
          71905,
          9574,
          1215,
          11797,
          2750,
          563,
          39944,
          19987,
          275577,
          62969,
          12785,
          778342,
          56480,
          23668,
          102369,
          60821,
          355223,
          7866,
          84728,
          6920,
          22479,
          6568,
          127971,
          11805,
          601464,
          241605,
          39999,
          33316,
          14899,
          25347,
          11898,
          1096,
          6325,
          867074,
          6946,
          51562,
          31796,
          46,
          149084,
          191,
          38,
          32772,
          2584,
          15,
          132236,
          3991,
          2192,
          54006,
          14293,
          1121,
          1941,
          15872,
          2807,
          22288,
          10119,
          1706185,
          385847,
          79281,
          24029,
          9178,
          21367,
          43643,
          6028,
          229141,
          253,
          25934,
          114,
          13038,
          3232,
          46519,
          1483,
          -1,
          27189,
          14477,
          57308,
          441,
          17327,
          489,
          216891,
          29443,
          65748,
          295,
          36376,
          52363,
          49949,
          5015,
          1090,
          13852,
          134,
          22569,
          2063,
          539,
          32152,
          13126,
          -1,
          2667,
          5006,
          19993,
          667,
          146358,
          3440,
          187,
          22861,
          3075,
          24505,
          7364,
          12928,
          125907,
          251667,
          28773,
          319390,
          28453,
          2464,
          27780,
          32006,
          2769,
          430267,
          22283,
          133987,
          44783,
          49530,
          96363,
          91777,
          608,
          153762,
          451,
          13777,
          106511,
          15082,
          29921,
          20616,
          37296,
          22894,
          455277,
          127211,
          10705,
          25917,
          29615,
          3237,
          100199,
          6253,
          6189,
          1213,
          33974,
          10724,
          36776,
          4873,
          1229,
          804,
          76217,
          344,
          1139,
          467,
          109,
          182,
          83707,
          329,
          823,
          227790,
          714,
          5174,
          2184,
          2696,
          94131,
          577,
          488,
          2286473,
          10402,
          16909,
          26306,
          5010,
          119953,
          4663,
          10389,
          9627,
          242721,
          14741,
          5041,
          1240,
          470,
          365971,
          3001232,
          1634,
          132,
          542,
          106056,
          519,
          6823113,
          1259,
          152593,
          718,
          145,
          304,
          23546,
          7219,
          731644,
          50488,
          12595,
          94,
          112098,
          77893,
          31578,
          139442,
          48163,
          37893,
          121547,
          158510,
          146566,
          23824,
          30033,
          9093,
          103051,
          104631,
          77866,
          18957,
          371116,
          23502,
          28031,
          25021,
          2400,
          47460,
          44713,
          227589,
          18649,
          58950,
          672749,
          47086,
          140841,
          25825,
          501165,
          71688,
          26616,
          155534,
          75028,
          63497,
          19325,
          205831,
          175132,
          774,
          1241,
          105355,
          5077,
          41927,
          75063,
          22891,
          6851,
          32631,
          4732,
          2135,
          6865,
          2740,
          2538,
          726,
          920,
          1656,
          15637,
          4063,
          1716,
          1815,
          1944,
          670,
          3001265,
          19997,
          2009,
          1382,
          834,
          7185,
          2952,
          3645,
          4049,
          1006,
          6117,
          2175,
          947,
          2342,
          29728,
          1431,
          3500,
          44616,
          193217,
          1015,
          1417,
          196898,
          18063,
          8815,
          1155,
          535,
          462,
          5035,
          1677,
          2194,
          19671,
          2967,
          48041,
          2025,
          10321,
          1144,
          5743875,
          1103713,
          28863,
          11025176,
          45448,
          475,
          1357197,
          24970,
          68133,
          11323,
          282754,
          1019385,
          164337,
          22420,
          9313,
          27102,
          1628,
          24285,
          7240,
          7375,
          74617,
          338601,
          1668,
          280090,
          72612,
          4986,
          73362,
          6177588,
          6473,
          21946,
          120500,
          639942,
          94089,
          10818,
          14386,
          37,
          371,
          2382,
          137327,
          9368,
          431284,
          23130,
          2639,
          881,
          7110,
          34575,
          4560,
          26171,
          3749,
          50074,
          37645,
          130817,
          222713,
          310589,
          3121,
          908,
          1445,
          2951,
          1237,
          32962,
          19436,
          324,
          6559,
          28195,
          992,
          1796,
          5524,
          9633,
          17548,
          28878,
          12675,
          345943,
          2586,
          98631,
          1809,
          23676,
          31710,
          1333,
          54092,
          16605,
          287909,
          11316,
          12935,
          4279,
          2815,
          11751,
          7246,
          26848,
          5675,
          64464,
          20892,
          4510,
          2990,
          10676,
          35092,
          88340,
          1184,
          3396,
          1229,
          2716,
          1251353,
          6642,
          57527,
          2779,
          8260,
          83345,
          2963,
          37251,
          8560,
          4160,
          3245,
          298445,
          1962726,
          3710978,
          4493972,
          2946965,
          302909,
          3550678,
          142261,
          14259033,
          2897163,
          207061,
          365592,
          3945358,
          3963124,
          6055504,
          374130,
          31521,
          2869906,
          2021442,
          3514143,
          3557658,
          598389,
          1572751,
          1511358,
          1801566,
          378105,
          312575,
          385059,
          4763784,
          2030057,
          4437532,
          367987,
          2135851,
          1080199,
          1552125,
          446014,
          2129926,
          319041,
          4120158,
          3136265,
          557743,
          2121115,
          3206546,
          632277,
          2523764,
          372266,
          381271,
          492024,
          201509,
          494889,
          61448,
          1810,
          779,
          17411,
          4192,
          4758,
          8436,
          12970,
          2672,
          14665,
          355,
          228,
          19135,
          18106,
          8680,
          600,
          105,
          354984,
          830,
          3600,
          9641,
          7247,
          741,
          22450,
          20138,
          -1,
          643,
          3963,
          29732,
          -1,
          20442,
          409,
          26505,
          5544,
          791,
          179555,
          54154,
          17,
          280080,
          56258,
          31601,
          85408,
          7791,
          23915,
          42757,
          700,
          55282,
          51915,
          118846,
          6579,
          16394,
          6386,
          2216,
          2923,
          2970,
          19444,
          12111,
          4238,
          630,
          2353,
          7514,
          56267,
          2673,
          2604,
          2020,
          7742,
          30536,
          4267,
          1760,
          5407,
          26837,
          12875,
          712,
          14986,
          1738,
          36835,
          3252,
          7555,
          582,
          3765,
          19969,
          29589,
          43704,
          20106,
          44518,
          71,
          16225,
          3759,
          55097,
          2313,
          2180,
          2350,
          8896,
          4869,
          39458,
          33471,
          43189,
          15137,
          36835,
          38776,
          1237,
          30764,
          18982,
          300789,
          13141,
          17219,
          16152,
          44217,
          559,
          22643,
          16723,
          8812,
          34464,
          12687,
          29818,
          27736,
          176978,
          4831,
          29980,
          3518,
          26619,
          5658,
          9862,
          463331,
          18847,
          10441,
          25161,
          1151,
          109335,
          1520,
          4306,
          413,
          5190,
          15683,
          3505,
          2712,
          2464,
          7289,
          4759,
          1861,
          9615,
          10259,
          2981,
          5198
         ],
         "xaxis": "x",
         "y": [
          672,
          4306,
          3338,
          1426,
          5155,
          1643,
          9367,
          12605,
          2882,
          1068,
          4123,
          3091,
          547,
          157,
          442,
          4999,
          199,
          143,
          11105,
          13609,
          486,
          1357,
          2842,
          2175,
          183,
          207,
          273,
          38,
          2056,
          790,
          3289,
          326,
          4159,
          136,
          1902,
          221,
          6102,
          1820,
          128,
          3926,
          3243,
          7464,
          20854,
          1767,
          2098,
          45,
          169,
          2371,
          2347,
          538,
          3934,
          887,
          222,
          1384,
          1653,
          2841,
          180,
          2670,
          793,
          1553,
          26,
          47,
          1517,
          2192,
          1559,
          560,
          7,
          3,
          1,
          18,
          1349,
          4853,
          451,
          1848,
          18,
          1294,
          121,
          5373,
          10,
          12,
          1531,
          22,
          2195,
          665,
          16,
          668,
          796,
          1307,
          3338,
          618,
          121,
          15609,
          29,
          282,
          256,
          306,
          429,
          193,
          2673,
          21,
          3417,
          471,
          1547,
          741,
          195,
          36,
          164,
          44,
          5,
          135,
          466,
          155,
          707,
          23,
          485,
          187,
          1287,
          93,
          202,
          77,
          472,
          459,
          279,
          14706,
          6315,
          537,
          100,
          519,
          116,
          85,
          1677,
          2358,
          5431,
          9809,
          489,
          20737,
          2515,
          2290,
          10191,
          2638,
          6889,
          550,
          1451,
          640,
          299,
          591,
          3938,
          1116,
          23466,
          6650,
          6387,
          1335,
          637,
          385,
          1330,
          178,
          391,
          43024,
          481,
          8289,
          555,
          6,
          3901,
          35,
          1,
          4597,
          57,
          1,
          3715,
          820,
          144,
          3508,
          2114,
          91,
          401,
          156,
          194,
          451,
          664,
          25334,
          4381,
          1683,
          422,
          111,
          467,
          1336,
          697,
          7461,
          2,
          424,
          2,
          470,
          580,
          1064,
          122,
          1144,
          622,
          1661,
          2303,
          496,
          965,
          240,
          11046,
          1408,
          1269,
          9,
          1876,
          2102,
          5045,
          1830,
          485,
          516,
          16,
          859,
          662,
          23,
          393,
          600,
          13,
          303,
          157,
          1870,
          305,
          3790,
          769,
          29,
          977,
          225,
          1085,
          653,
          1001,
          15131,
          6894,
          780,
          7746,
          603,
          296,
          1518,
          2924,
          363,
          12839,
          1331,
          11698,
          1921,
          2477,
          6337,
          2658,
          136,
          26601,
          85,
          585,
          2800,
          753,
          1783,
          879,
          1088,
          896,
          12904,
          3593,
          761,
          1094,
          1510,
          595,
          8790,
          359,
          276,
          144,
          695,
          3548,
          1192,
          319,
          54,
          85,
          2645,
          101,
          59,
          31,
          16,
          15,
          1717,
          29,
          49,
          8698,
          14,
          238,
          3,
          18,
          920,
          46,
          31,
          86935,
          123,
          215,
          331,
          123,
          13263,
          306,
          905,
          577,
          7745,
          913,
          252,
          9,
          6,
          34419,
          110160,
          52,
          19,
          12,
          4284,
          11,
          270948,
          9,
          3290,
          5,
          3,
          16,
          392,
          314,
          8894,
          8741,
          216,
          9,
          9775,
          5741,
          1904,
          10653,
          2178,
          2061,
          4043,
          6026,
          13664,
          1496,
          1209,
          759,
          2343,
          4839,
          2958,
          566,
          13239,
          1113,
          1690,
          1216,
          214,
          1517,
          2725,
          4648,
          1339,
          1107,
          62897,
          3535,
          7330,
          1458,
          31086,
          1712,
          1143,
          10306,
          3457,
          4004,
          1128,
          15677,
          6049,
          83,
          70,
          7424,
          351,
          1112,
          3724,
          1780,
          178,
          1587,
          256,
          136,
          554,
          86,
          435,
          50,
          93,
          236,
          1279,
          245,
          308,
          254,
          160,
          125,
          110162,
          1540,
          317,
          134,
          84,
          463,
          478,
          225,
          807,
          40,
          745,
          115,
          108,
          226,
          8832,
          260,
          381,
          3098,
          6129,
          96,
          159,
          15525,
          978,
          1353,
          132,
          132,
          62,
          564,
          290,
          256,
          1151,
          565,
          1435,
          308,
          930,
          39,
          178361,
          29774,
          605,
          335455,
          1680,
          21,
          39624,
          1225,
          1358,
          210,
          10831,
          24603,
          7092,
          679,
          433,
          2311,
          85,
          893,
          167,
          368,
          1982,
          19063,
          107,
          11424,
          1063,
          134,
          4072,
          125791,
          455,
          481,
          5172,
          23316,
          1537,
          291,
          332,
          1,
          19,
          114,
          6197,
          279,
          33369,
          1323,
          1009,
          17,
          374,
          350,
          144,
          577,
          715,
          3095,
          2115,
          6868,
          12557,
          23024,
          104,
          932,
          296,
          580,
          709,
          2355,
          1683,
          51,
          257,
          2588,
          18,
          47,
          526,
          179,
          664,
          605,
          909,
          11838,
          98,
          3188,
          65,
          1913,
          456,
          22,
          2452,
          849,
          6424,
          850,
          80,
          171,
          79,
          659,
          464,
          239,
          54,
          3171,
          622,
          264,
          160,
          399,
          1804,
          2982,
          54,
          116,
          24,
          53,
          71682,
          312,
          1115,
          83,
          1127,
          4558,
          193,
          1452,
          152,
          122,
          437,
          15610,
          62540,
          224423,
          177471,
          131040,
          7693,
          157803,
          14797,
          611757,
          104483,
          7997,
          7270,
          145722,
          728774,
          239172,
          26390,
          926,
          119182,
          121200,
          129023,
          127113,
          19760,
          52457,
          81100,
          76492,
          9251,
          1902,
          10374,
          174632,
          81670,
          109214,
          6645,
          91698,
          36374,
          67399,
          8278,
          91190,
          5526,
          177881,
          101503,
          19706,
          65601,
          108235,
          19405,
          136866,
          6699,
          14433,
          41183,
          9784,
          23110,
          4080,
          13,
          105,
          441,
          198,
          141,
          398,
          469,
          240,
          873,
          21,
          22,
          1625,
          325,
          352,
          18,
          -1,
          108099,
          19,
          18,
          115,
          88,
          29,
          705,
          -1,
          180,
          0,
          260,
          8832,
          105,
          2591,
          29,
          794,
          196,
          6,
          6907,
          2892,
          1,
          7414,
          1185,
          1250,
          5547,
          1827,
          311,
          1087,
          16,
          576,
          876,
          3501,
          146,
          864,
          115,
          360,
          49,
          346,
          766,
          467,
          47,
          86,
          178,
          251,
          1146,
          174,
          78,
          133,
          787,
          742,
          70,
          170,
          54,
          555,
          354,
          130,
          616,
          100,
          1265,
          331,
          442,
          33,
          74,
          621,
          950,
          1543,
          616,
          1273,
          2,
          454,
          67,
          1543,
          230,
          170,
          162,
          225,
          218,
          744,
          1176,
          1155,
          181,
          1265,
          566,
          16,
          929,
          402,
          6254,
          382,
          417,
          282,
          1448,
          24,
          555,
          372,
          889,
          822,
          313,
          1028,
          692,
          7152,
          1517,
          897,
          97,
          1070,
          195,
          205,
          21849,
          76,
          172,
          1188,
          37,
          2712,
          32,
          48,
          4,
          217,
          1004,
          408,
          146,
          130,
          158,
          232,
          184,
          648,
          416,
          72,
          443
         ],
         "yaxis": "y"
        }
       ],
       "layout": {
        "legend": {
         "tracegroupgap": 0
        },
        "template": {
         "data": {
          "bar": [
           {
            "error_x": {
             "color": "#2a3f5f"
            },
            "error_y": {
             "color": "#2a3f5f"
            },
            "marker": {
             "line": {
              "color": "#E5ECF6",
              "width": 0.5
             },
             "pattern": {
              "fillmode": "overlay",
              "size": 10,
              "solidity": 0.2
             }
            },
            "type": "bar"
           }
          ],
          "barpolar": [
           {
            "marker": {
             "line": {
              "color": "#E5ECF6",
              "width": 0.5
             },
             "pattern": {
              "fillmode": "overlay",
              "size": 10,
              "solidity": 0.2
             }
            },
            "type": "barpolar"
           }
          ],
          "carpet": [
           {
            "aaxis": {
             "endlinecolor": "#2a3f5f",
             "gridcolor": "white",
             "linecolor": "white",
             "minorgridcolor": "white",
             "startlinecolor": "#2a3f5f"
            },
            "baxis": {
             "endlinecolor": "#2a3f5f",
             "gridcolor": "white",
             "linecolor": "white",
             "minorgridcolor": "white",
             "startlinecolor": "#2a3f5f"
            },
            "type": "carpet"
           }
          ],
          "choropleth": [
           {
            "colorbar": {
             "outlinewidth": 0,
             "ticks": ""
            },
            "type": "choropleth"
           }
          ],
          "contour": [
           {
            "colorbar": {
             "outlinewidth": 0,
             "ticks": ""
            },
            "colorscale": [
             [
              0,
              "#0d0887"
             ],
             [
              0.1111111111111111,
              "#46039f"
             ],
             [
              0.2222222222222222,
              "#7201a8"
             ],
             [
              0.3333333333333333,
              "#9c179e"
             ],
             [
              0.4444444444444444,
              "#bd3786"
             ],
             [
              0.5555555555555556,
              "#d8576b"
             ],
             [
              0.6666666666666666,
              "#ed7953"
             ],
             [
              0.7777777777777778,
              "#fb9f3a"
             ],
             [
              0.8888888888888888,
              "#fdca26"
             ],
             [
              1,
              "#f0f921"
             ]
            ],
            "type": "contour"
           }
          ],
          "contourcarpet": [
           {
            "colorbar": {
             "outlinewidth": 0,
             "ticks": ""
            },
            "type": "contourcarpet"
           }
          ],
          "heatmap": [
           {
            "colorbar": {
             "outlinewidth": 0,
             "ticks": ""
            },
            "colorscale": [
             [
              0,
              "#0d0887"
             ],
             [
              0.1111111111111111,
              "#46039f"
             ],
             [
              0.2222222222222222,
              "#7201a8"
             ],
             [
              0.3333333333333333,
              "#9c179e"
             ],
             [
              0.4444444444444444,
              "#bd3786"
             ],
             [
              0.5555555555555556,
              "#d8576b"
             ],
             [
              0.6666666666666666,
              "#ed7953"
             ],
             [
              0.7777777777777778,
              "#fb9f3a"
             ],
             [
              0.8888888888888888,
              "#fdca26"
             ],
             [
              1,
              "#f0f921"
             ]
            ],
            "type": "heatmap"
           }
          ],
          "heatmapgl": [
           {
            "colorbar": {
             "outlinewidth": 0,
             "ticks": ""
            },
            "colorscale": [
             [
              0,
              "#0d0887"
             ],
             [
              0.1111111111111111,
              "#46039f"
             ],
             [
              0.2222222222222222,
              "#7201a8"
             ],
             [
              0.3333333333333333,
              "#9c179e"
             ],
             [
              0.4444444444444444,
              "#bd3786"
             ],
             [
              0.5555555555555556,
              "#d8576b"
             ],
             [
              0.6666666666666666,
              "#ed7953"
             ],
             [
              0.7777777777777778,
              "#fb9f3a"
             ],
             [
              0.8888888888888888,
              "#fdca26"
             ],
             [
              1,
              "#f0f921"
             ]
            ],
            "type": "heatmapgl"
           }
          ],
          "histogram": [
           {
            "marker": {
             "pattern": {
              "fillmode": "overlay",
              "size": 10,
              "solidity": 0.2
             }
            },
            "type": "histogram"
           }
          ],
          "histogram2d": [
           {
            "colorbar": {
             "outlinewidth": 0,
             "ticks": ""
            },
            "colorscale": [
             [
              0,
              "#0d0887"
             ],
             [
              0.1111111111111111,
              "#46039f"
             ],
             [
              0.2222222222222222,
              "#7201a8"
             ],
             [
              0.3333333333333333,
              "#9c179e"
             ],
             [
              0.4444444444444444,
              "#bd3786"
             ],
             [
              0.5555555555555556,
              "#d8576b"
             ],
             [
              0.6666666666666666,
              "#ed7953"
             ],
             [
              0.7777777777777778,
              "#fb9f3a"
             ],
             [
              0.8888888888888888,
              "#fdca26"
             ],
             [
              1,
              "#f0f921"
             ]
            ],
            "type": "histogram2d"
           }
          ],
          "histogram2dcontour": [
           {
            "colorbar": {
             "outlinewidth": 0,
             "ticks": ""
            },
            "colorscale": [
             [
              0,
              "#0d0887"
             ],
             [
              0.1111111111111111,
              "#46039f"
             ],
             [
              0.2222222222222222,
              "#7201a8"
             ],
             [
              0.3333333333333333,
              "#9c179e"
             ],
             [
              0.4444444444444444,
              "#bd3786"
             ],
             [
              0.5555555555555556,
              "#d8576b"
             ],
             [
              0.6666666666666666,
              "#ed7953"
             ],
             [
              0.7777777777777778,
              "#fb9f3a"
             ],
             [
              0.8888888888888888,
              "#fdca26"
             ],
             [
              1,
              "#f0f921"
             ]
            ],
            "type": "histogram2dcontour"
           }
          ],
          "mesh3d": [
           {
            "colorbar": {
             "outlinewidth": 0,
             "ticks": ""
            },
            "type": "mesh3d"
           }
          ],
          "parcoords": [
           {
            "line": {
             "colorbar": {
              "outlinewidth": 0,
              "ticks": ""
             }
            },
            "type": "parcoords"
           }
          ],
          "pie": [
           {
            "automargin": true,
            "type": "pie"
           }
          ],
          "scatter": [
           {
            "fillpattern": {
             "fillmode": "overlay",
             "size": 10,
             "solidity": 0.2
            },
            "type": "scatter"
           }
          ],
          "scatter3d": [
           {
            "line": {
             "colorbar": {
              "outlinewidth": 0,
              "ticks": ""
             }
            },
            "marker": {
             "colorbar": {
              "outlinewidth": 0,
              "ticks": ""
             }
            },
            "type": "scatter3d"
           }
          ],
          "scattercarpet": [
           {
            "marker": {
             "colorbar": {
              "outlinewidth": 0,
              "ticks": ""
             }
            },
            "type": "scattercarpet"
           }
          ],
          "scattergeo": [
           {
            "marker": {
             "colorbar": {
              "outlinewidth": 0,
              "ticks": ""
             }
            },
            "type": "scattergeo"
           }
          ],
          "scattergl": [
           {
            "marker": {
             "colorbar": {
              "outlinewidth": 0,
              "ticks": ""
             }
            },
            "type": "scattergl"
           }
          ],
          "scattermapbox": [
           {
            "marker": {
             "colorbar": {
              "outlinewidth": 0,
              "ticks": ""
             }
            },
            "type": "scattermapbox"
           }
          ],
          "scatterpolar": [
           {
            "marker": {
             "colorbar": {
              "outlinewidth": 0,
              "ticks": ""
             }
            },
            "type": "scatterpolar"
           }
          ],
          "scatterpolargl": [
           {
            "marker": {
             "colorbar": {
              "outlinewidth": 0,
              "ticks": ""
             }
            },
            "type": "scatterpolargl"
           }
          ],
          "scatterternary": [
           {
            "marker": {
             "colorbar": {
              "outlinewidth": 0,
              "ticks": ""
             }
            },
            "type": "scatterternary"
           }
          ],
          "surface": [
           {
            "colorbar": {
             "outlinewidth": 0,
             "ticks": ""
            },
            "colorscale": [
             [
              0,
              "#0d0887"
             ],
             [
              0.1111111111111111,
              "#46039f"
             ],
             [
              0.2222222222222222,
              "#7201a8"
             ],
             [
              0.3333333333333333,
              "#9c179e"
             ],
             [
              0.4444444444444444,
              "#bd3786"
             ],
             [
              0.5555555555555556,
              "#d8576b"
             ],
             [
              0.6666666666666666,
              "#ed7953"
             ],
             [
              0.7777777777777778,
              "#fb9f3a"
             ],
             [
              0.8888888888888888,
              "#fdca26"
             ],
             [
              1,
              "#f0f921"
             ]
            ],
            "type": "surface"
           }
          ],
          "table": [
           {
            "cells": {
             "fill": {
              "color": "#EBF0F8"
             },
             "line": {
              "color": "white"
             }
            },
            "header": {
             "fill": {
              "color": "#C8D4E3"
             },
             "line": {
              "color": "white"
             }
            },
            "type": "table"
           }
          ]
         },
         "layout": {
          "annotationdefaults": {
           "arrowcolor": "#2a3f5f",
           "arrowhead": 0,
           "arrowwidth": 1
          },
          "autotypenumbers": "strict",
          "coloraxis": {
           "colorbar": {
            "outlinewidth": 0,
            "ticks": ""
           }
          },
          "colorscale": {
           "diverging": [
            [
             0,
             "#8e0152"
            ],
            [
             0.1,
             "#c51b7d"
            ],
            [
             0.2,
             "#de77ae"
            ],
            [
             0.3,
             "#f1b6da"
            ],
            [
             0.4,
             "#fde0ef"
            ],
            [
             0.5,
             "#f7f7f7"
            ],
            [
             0.6,
             "#e6f5d0"
            ],
            [
             0.7,
             "#b8e186"
            ],
            [
             0.8,
             "#7fbc41"
            ],
            [
             0.9,
             "#4d9221"
            ],
            [
             1,
             "#276419"
            ]
           ],
           "sequential": [
            [
             0,
             "#0d0887"
            ],
            [
             0.1111111111111111,
             "#46039f"
            ],
            [
             0.2222222222222222,
             "#7201a8"
            ],
            [
             0.3333333333333333,
             "#9c179e"
            ],
            [
             0.4444444444444444,
             "#bd3786"
            ],
            [
             0.5555555555555556,
             "#d8576b"
            ],
            [
             0.6666666666666666,
             "#ed7953"
            ],
            [
             0.7777777777777778,
             "#fb9f3a"
            ],
            [
             0.8888888888888888,
             "#fdca26"
            ],
            [
             1,
             "#f0f921"
            ]
           ],
           "sequentialminus": [
            [
             0,
             "#0d0887"
            ],
            [
             0.1111111111111111,
             "#46039f"
            ],
            [
             0.2222222222222222,
             "#7201a8"
            ],
            [
             0.3333333333333333,
             "#9c179e"
            ],
            [
             0.4444444444444444,
             "#bd3786"
            ],
            [
             0.5555555555555556,
             "#d8576b"
            ],
            [
             0.6666666666666666,
             "#ed7953"
            ],
            [
             0.7777777777777778,
             "#fb9f3a"
            ],
            [
             0.8888888888888888,
             "#fdca26"
            ],
            [
             1,
             "#f0f921"
            ]
           ]
          },
          "colorway": [
           "#636efa",
           "#EF553B",
           "#00cc96",
           "#ab63fa",
           "#FFA15A",
           "#19d3f3",
           "#FF6692",
           "#B6E880",
           "#FF97FF",
           "#FECB52"
          ],
          "font": {
           "color": "#2a3f5f"
          },
          "geo": {
           "bgcolor": "white",
           "lakecolor": "white",
           "landcolor": "#E5ECF6",
           "showlakes": true,
           "showland": true,
           "subunitcolor": "white"
          },
          "hoverlabel": {
           "align": "left"
          },
          "hovermode": "closest",
          "mapbox": {
           "style": "light"
          },
          "paper_bgcolor": "white",
          "plot_bgcolor": "#E5ECF6",
          "polar": {
           "angularaxis": {
            "gridcolor": "white",
            "linecolor": "white",
            "ticks": ""
           },
           "bgcolor": "#E5ECF6",
           "radialaxis": {
            "gridcolor": "white",
            "linecolor": "white",
            "ticks": ""
           }
          },
          "scene": {
           "xaxis": {
            "backgroundcolor": "#E5ECF6",
            "gridcolor": "white",
            "gridwidth": 2,
            "linecolor": "white",
            "showbackground": true,
            "ticks": "",
            "zerolinecolor": "white"
           },
           "yaxis": {
            "backgroundcolor": "#E5ECF6",
            "gridcolor": "white",
            "gridwidth": 2,
            "linecolor": "white",
            "showbackground": true,
            "ticks": "",
            "zerolinecolor": "white"
           },
           "zaxis": {
            "backgroundcolor": "#E5ECF6",
            "gridcolor": "white",
            "gridwidth": 2,
            "linecolor": "white",
            "showbackground": true,
            "ticks": "",
            "zerolinecolor": "white"
           }
          },
          "shapedefaults": {
           "line": {
            "color": "#2a3f5f"
           }
          },
          "ternary": {
           "aaxis": {
            "gridcolor": "white",
            "linecolor": "white",
            "ticks": ""
           },
           "baxis": {
            "gridcolor": "white",
            "linecolor": "white",
            "ticks": ""
           },
           "bgcolor": "#E5ECF6",
           "caxis": {
            "gridcolor": "white",
            "linecolor": "white",
            "ticks": ""
           }
          },
          "title": {
           "x": 0.05
          },
          "xaxis": {
           "automargin": true,
           "gridcolor": "white",
           "linecolor": "white",
           "ticks": "",
           "title": {
            "standoff": 15
           },
           "zerolinecolor": "white",
           "zerolinewidth": 2
          },
          "yaxis": {
           "automargin": true,
           "gridcolor": "white",
           "linecolor": "white",
           "ticks": "",
           "title": {
            "standoff": 15
           },
           "zerolinecolor": "white",
           "zerolinewidth": 2
          }
         }
        },
        "title": {
         "text": "Number of Likes (millions) vs. Number of Comments (thousands) of Video"
        },
        "xaxis": {
         "anchor": "y",
         "domain": [
          0,
          1
         ],
         "title": {
          "text": "Likes"
         }
        },
        "yaxis": {
         "anchor": "x",
         "domain": [
          0,
          1
         ],
         "title": {
          "text": "Comments"
         }
        }
       }
      }
     },
     "metadata": {},
     "output_type": "display_data"
    }
   ],
   "source": [
    "fig = px.scatter(stats, x = \"Likes\", y = \"Comments\", title = \"Number of Likes (millions) vs. Number of Comments (thousands) of Video\",\n",
    "          color_discrete_sequence = [\"#0099C6\"])\n",
    "\n",
    "fig.show()"
   ]
  },
  {
   "cell_type": "markdown",
   "id": "99e11f84",
   "metadata": {},
   "source": [
    "## Analysis and Visualization: Machine Learning Interest Over Time"
   ]
  },
  {
   "cell_type": "markdown",
   "id": "518a6dbd",
   "metadata": {},
   "source": [
    "For the following graph, I wanted to show how the interest in the `machine learning` keyword changed over time. In order to do this, I utilized the published date of the videos, as each of the rows in this dataset represents one video. However, something to note from how I chose to do this is that this method does not necessarily visualize machine learning interest over time. Rather, it visualizes how the individual machine learning videos published at different points in time were faring in 2022, when this dataset was cultivated."
   ]
  },
  {
   "cell_type": "code",
   "execution_count": 14,
   "id": "c29f72ad",
   "metadata": {},
   "outputs": [
    {
     "data": {
      "text/html": [
       "<div>\n",
       "<style scoped>\n",
       "    .dataframe tbody tr th:only-of-type {\n",
       "        vertical-align: middle;\n",
       "    }\n",
       "\n",
       "    .dataframe tbody tr th {\n",
       "        vertical-align: top;\n",
       "    }\n",
       "\n",
       "    .dataframe thead th {\n",
       "        text-align: right;\n",
       "    }\n",
       "</style>\n",
       "<table border=\"1\" class=\"dataframe\">\n",
       "  <thead>\n",
       "    <tr style=\"text-align: right;\">\n",
       "      <th></th>\n",
       "      <th>Likes</th>\n",
       "      <th>Comments</th>\n",
       "      <th>Views</th>\n",
       "    </tr>\n",
       "    <tr>\n",
       "      <th>Published At</th>\n",
       "      <th></th>\n",
       "      <th></th>\n",
       "      <th></th>\n",
       "    </tr>\n",
       "  </thead>\n",
       "  <tbody>\n",
       "    <tr>\n",
       "      <th>2015-06-13</th>\n",
       "      <td>29980.0</td>\n",
       "      <td>897.0</td>\n",
       "      <td>1167616.0</td>\n",
       "    </tr>\n",
       "    <tr>\n",
       "      <th>2017-05-19</th>\n",
       "      <td>13141.0</td>\n",
       "      <td>382.0</td>\n",
       "      <td>181827.0</td>\n",
       "    </tr>\n",
       "    <tr>\n",
       "      <th>2017-08-24</th>\n",
       "      <td>38776.0</td>\n",
       "      <td>566.0</td>\n",
       "      <td>2278698.0</td>\n",
       "    </tr>\n",
       "    <tr>\n",
       "      <th>2017-08-31</th>\n",
       "      <td>30764.0</td>\n",
       "      <td>929.0</td>\n",
       "      <td>856628.0</td>\n",
       "    </tr>\n",
       "    <tr>\n",
       "      <th>2017-10-05</th>\n",
       "      <td>17219.0</td>\n",
       "      <td>417.0</td>\n",
       "      <td>762553.0</td>\n",
       "    </tr>\n",
       "  </tbody>\n",
       "</table>\n",
       "</div>"
      ],
      "text/plain": [
       "                Likes  Comments      Views\n",
       "Published At                              \n",
       "2015-06-13    29980.0     897.0  1167616.0\n",
       "2017-05-19    13141.0     382.0   181827.0\n",
       "2017-08-24    38776.0     566.0  2278698.0\n",
       "2017-08-31    30764.0     929.0   856628.0\n",
       "2017-10-05    17219.0     417.0   762553.0"
      ]
     },
     "execution_count": 14,
     "metadata": {},
     "output_type": "execute_result"
    }
   ],
   "source": [
    "ml = stats[stats[\"Keyword\"] == \"machine learning\"]\n",
    "ml_grouped = ml.groupby(\"Published At\").agg(\"mean\", numeric_only=True)\n",
    "ml_grouped.head(5)"
   ]
  },
  {
   "cell_type": "code",
   "execution_count": 15,
   "id": "a7e8acf9",
   "metadata": {},
   "outputs": [
    {
     "data": {
      "application/vnd.plotly.v1+json": {
       "config": {
        "plotlyServerURL": "https://plot.ly"
       },
       "data": [
        {
         "hovertemplate": "Date Published=%{x}<br>Average Number of Views=%{y}<extra></extra>",
         "legendgroup": "",
         "line": {
          "color": "#DD4477",
          "dash": "solid"
         },
         "marker": {
          "symbol": "circle"
         },
         "mode": "lines",
         "name": "",
         "orientation": "v",
         "showlegend": false,
         "type": "scatter",
         "x": [
          "2015-06-13",
          "2017-05-19",
          "2017-08-24",
          "2017-08-31",
          "2017-10-05",
          "2017-10-08",
          "2017-10-16",
          "2017-11-01",
          "2017-12-18",
          "2018-02-13",
          "2018-02-20",
          "2018-02-22",
          "2018-03-21",
          "2018-06-22",
          "2018-09-17",
          "2018-09-19",
          "2018-11-30",
          "2018-12-19",
          "2019-01-11",
          "2019-05-09",
          "2019-06-03",
          "2019-06-20",
          "2019-08-30",
          "2019-09-22",
          "2019-09-29",
          "2019-10-23",
          "2020-02-13",
          "2020-02-20",
          "2020-04-17",
          "2020-05-16",
          "2020-06-25",
          "2020-07-12",
          "2020-07-30",
          "2020-09-17",
          "2020-10-01",
          "2021-02-12",
          "2021-05-11",
          "2021-05-28",
          "2021-06-14",
          "2021-07-14",
          "2021-08-18",
          "2021-08-30",
          "2021-09-09",
          "2022-01-12",
          "2022-02-01",
          "2022-03-02",
          "2022-03-31",
          "2022-05-28"
         ],
         "xaxis": "x",
         "y": [
          1167616,
          181827,
          2278698,
          856628,
          762553,
          431421,
          238411,
          872008,
          515395,
          130286,
          508969,
          879470,
          127492,
          145691,
          5028230,
          2317183,
          1432027,
          192964,
          292643,
          854273,
          82298,
          402110,
          1651599,
          1456270,
          578179,
          7497071,
          1378069,
          226152,
          847233,
          27243,
          25386,
          10817160,
          1414209,
          32605,
          367200,
          257103,
          319957,
          351087,
          386360,
          738202,
          906372,
          11814893,
          605453,
          56956,
          37959,
          41925,
          1339489,
          132583
         ],
         "yaxis": "y"
        }
       ],
       "layout": {
        "legend": {
         "tracegroupgap": 0
        },
        "template": {
         "data": {
          "bar": [
           {
            "error_x": {
             "color": "#2a3f5f"
            },
            "error_y": {
             "color": "#2a3f5f"
            },
            "marker": {
             "line": {
              "color": "#E5ECF6",
              "width": 0.5
             },
             "pattern": {
              "fillmode": "overlay",
              "size": 10,
              "solidity": 0.2
             }
            },
            "type": "bar"
           }
          ],
          "barpolar": [
           {
            "marker": {
             "line": {
              "color": "#E5ECF6",
              "width": 0.5
             },
             "pattern": {
              "fillmode": "overlay",
              "size": 10,
              "solidity": 0.2
             }
            },
            "type": "barpolar"
           }
          ],
          "carpet": [
           {
            "aaxis": {
             "endlinecolor": "#2a3f5f",
             "gridcolor": "white",
             "linecolor": "white",
             "minorgridcolor": "white",
             "startlinecolor": "#2a3f5f"
            },
            "baxis": {
             "endlinecolor": "#2a3f5f",
             "gridcolor": "white",
             "linecolor": "white",
             "minorgridcolor": "white",
             "startlinecolor": "#2a3f5f"
            },
            "type": "carpet"
           }
          ],
          "choropleth": [
           {
            "colorbar": {
             "outlinewidth": 0,
             "ticks": ""
            },
            "type": "choropleth"
           }
          ],
          "contour": [
           {
            "colorbar": {
             "outlinewidth": 0,
             "ticks": ""
            },
            "colorscale": [
             [
              0,
              "#0d0887"
             ],
             [
              0.1111111111111111,
              "#46039f"
             ],
             [
              0.2222222222222222,
              "#7201a8"
             ],
             [
              0.3333333333333333,
              "#9c179e"
             ],
             [
              0.4444444444444444,
              "#bd3786"
             ],
             [
              0.5555555555555556,
              "#d8576b"
             ],
             [
              0.6666666666666666,
              "#ed7953"
             ],
             [
              0.7777777777777778,
              "#fb9f3a"
             ],
             [
              0.8888888888888888,
              "#fdca26"
             ],
             [
              1,
              "#f0f921"
             ]
            ],
            "type": "contour"
           }
          ],
          "contourcarpet": [
           {
            "colorbar": {
             "outlinewidth": 0,
             "ticks": ""
            },
            "type": "contourcarpet"
           }
          ],
          "heatmap": [
           {
            "colorbar": {
             "outlinewidth": 0,
             "ticks": ""
            },
            "colorscale": [
             [
              0,
              "#0d0887"
             ],
             [
              0.1111111111111111,
              "#46039f"
             ],
             [
              0.2222222222222222,
              "#7201a8"
             ],
             [
              0.3333333333333333,
              "#9c179e"
             ],
             [
              0.4444444444444444,
              "#bd3786"
             ],
             [
              0.5555555555555556,
              "#d8576b"
             ],
             [
              0.6666666666666666,
              "#ed7953"
             ],
             [
              0.7777777777777778,
              "#fb9f3a"
             ],
             [
              0.8888888888888888,
              "#fdca26"
             ],
             [
              1,
              "#f0f921"
             ]
            ],
            "type": "heatmap"
           }
          ],
          "heatmapgl": [
           {
            "colorbar": {
             "outlinewidth": 0,
             "ticks": ""
            },
            "colorscale": [
             [
              0,
              "#0d0887"
             ],
             [
              0.1111111111111111,
              "#46039f"
             ],
             [
              0.2222222222222222,
              "#7201a8"
             ],
             [
              0.3333333333333333,
              "#9c179e"
             ],
             [
              0.4444444444444444,
              "#bd3786"
             ],
             [
              0.5555555555555556,
              "#d8576b"
             ],
             [
              0.6666666666666666,
              "#ed7953"
             ],
             [
              0.7777777777777778,
              "#fb9f3a"
             ],
             [
              0.8888888888888888,
              "#fdca26"
             ],
             [
              1,
              "#f0f921"
             ]
            ],
            "type": "heatmapgl"
           }
          ],
          "histogram": [
           {
            "marker": {
             "pattern": {
              "fillmode": "overlay",
              "size": 10,
              "solidity": 0.2
             }
            },
            "type": "histogram"
           }
          ],
          "histogram2d": [
           {
            "colorbar": {
             "outlinewidth": 0,
             "ticks": ""
            },
            "colorscale": [
             [
              0,
              "#0d0887"
             ],
             [
              0.1111111111111111,
              "#46039f"
             ],
             [
              0.2222222222222222,
              "#7201a8"
             ],
             [
              0.3333333333333333,
              "#9c179e"
             ],
             [
              0.4444444444444444,
              "#bd3786"
             ],
             [
              0.5555555555555556,
              "#d8576b"
             ],
             [
              0.6666666666666666,
              "#ed7953"
             ],
             [
              0.7777777777777778,
              "#fb9f3a"
             ],
             [
              0.8888888888888888,
              "#fdca26"
             ],
             [
              1,
              "#f0f921"
             ]
            ],
            "type": "histogram2d"
           }
          ],
          "histogram2dcontour": [
           {
            "colorbar": {
             "outlinewidth": 0,
             "ticks": ""
            },
            "colorscale": [
             [
              0,
              "#0d0887"
             ],
             [
              0.1111111111111111,
              "#46039f"
             ],
             [
              0.2222222222222222,
              "#7201a8"
             ],
             [
              0.3333333333333333,
              "#9c179e"
             ],
             [
              0.4444444444444444,
              "#bd3786"
             ],
             [
              0.5555555555555556,
              "#d8576b"
             ],
             [
              0.6666666666666666,
              "#ed7953"
             ],
             [
              0.7777777777777778,
              "#fb9f3a"
             ],
             [
              0.8888888888888888,
              "#fdca26"
             ],
             [
              1,
              "#f0f921"
             ]
            ],
            "type": "histogram2dcontour"
           }
          ],
          "mesh3d": [
           {
            "colorbar": {
             "outlinewidth": 0,
             "ticks": ""
            },
            "type": "mesh3d"
           }
          ],
          "parcoords": [
           {
            "line": {
             "colorbar": {
              "outlinewidth": 0,
              "ticks": ""
             }
            },
            "type": "parcoords"
           }
          ],
          "pie": [
           {
            "automargin": true,
            "type": "pie"
           }
          ],
          "scatter": [
           {
            "fillpattern": {
             "fillmode": "overlay",
             "size": 10,
             "solidity": 0.2
            },
            "type": "scatter"
           }
          ],
          "scatter3d": [
           {
            "line": {
             "colorbar": {
              "outlinewidth": 0,
              "ticks": ""
             }
            },
            "marker": {
             "colorbar": {
              "outlinewidth": 0,
              "ticks": ""
             }
            },
            "type": "scatter3d"
           }
          ],
          "scattercarpet": [
           {
            "marker": {
             "colorbar": {
              "outlinewidth": 0,
              "ticks": ""
             }
            },
            "type": "scattercarpet"
           }
          ],
          "scattergeo": [
           {
            "marker": {
             "colorbar": {
              "outlinewidth": 0,
              "ticks": ""
             }
            },
            "type": "scattergeo"
           }
          ],
          "scattergl": [
           {
            "marker": {
             "colorbar": {
              "outlinewidth": 0,
              "ticks": ""
             }
            },
            "type": "scattergl"
           }
          ],
          "scattermapbox": [
           {
            "marker": {
             "colorbar": {
              "outlinewidth": 0,
              "ticks": ""
             }
            },
            "type": "scattermapbox"
           }
          ],
          "scatterpolar": [
           {
            "marker": {
             "colorbar": {
              "outlinewidth": 0,
              "ticks": ""
             }
            },
            "type": "scatterpolar"
           }
          ],
          "scatterpolargl": [
           {
            "marker": {
             "colorbar": {
              "outlinewidth": 0,
              "ticks": ""
             }
            },
            "type": "scatterpolargl"
           }
          ],
          "scatterternary": [
           {
            "marker": {
             "colorbar": {
              "outlinewidth": 0,
              "ticks": ""
             }
            },
            "type": "scatterternary"
           }
          ],
          "surface": [
           {
            "colorbar": {
             "outlinewidth": 0,
             "ticks": ""
            },
            "colorscale": [
             [
              0,
              "#0d0887"
             ],
             [
              0.1111111111111111,
              "#46039f"
             ],
             [
              0.2222222222222222,
              "#7201a8"
             ],
             [
              0.3333333333333333,
              "#9c179e"
             ],
             [
              0.4444444444444444,
              "#bd3786"
             ],
             [
              0.5555555555555556,
              "#d8576b"
             ],
             [
              0.6666666666666666,
              "#ed7953"
             ],
             [
              0.7777777777777778,
              "#fb9f3a"
             ],
             [
              0.8888888888888888,
              "#fdca26"
             ],
             [
              1,
              "#f0f921"
             ]
            ],
            "type": "surface"
           }
          ],
          "table": [
           {
            "cells": {
             "fill": {
              "color": "#EBF0F8"
             },
             "line": {
              "color": "white"
             }
            },
            "header": {
             "fill": {
              "color": "#C8D4E3"
             },
             "line": {
              "color": "white"
             }
            },
            "type": "table"
           }
          ]
         },
         "layout": {
          "annotationdefaults": {
           "arrowcolor": "#2a3f5f",
           "arrowhead": 0,
           "arrowwidth": 1
          },
          "autotypenumbers": "strict",
          "coloraxis": {
           "colorbar": {
            "outlinewidth": 0,
            "ticks": ""
           }
          },
          "colorscale": {
           "diverging": [
            [
             0,
             "#8e0152"
            ],
            [
             0.1,
             "#c51b7d"
            ],
            [
             0.2,
             "#de77ae"
            ],
            [
             0.3,
             "#f1b6da"
            ],
            [
             0.4,
             "#fde0ef"
            ],
            [
             0.5,
             "#f7f7f7"
            ],
            [
             0.6,
             "#e6f5d0"
            ],
            [
             0.7,
             "#b8e186"
            ],
            [
             0.8,
             "#7fbc41"
            ],
            [
             0.9,
             "#4d9221"
            ],
            [
             1,
             "#276419"
            ]
           ],
           "sequential": [
            [
             0,
             "#0d0887"
            ],
            [
             0.1111111111111111,
             "#46039f"
            ],
            [
             0.2222222222222222,
             "#7201a8"
            ],
            [
             0.3333333333333333,
             "#9c179e"
            ],
            [
             0.4444444444444444,
             "#bd3786"
            ],
            [
             0.5555555555555556,
             "#d8576b"
            ],
            [
             0.6666666666666666,
             "#ed7953"
            ],
            [
             0.7777777777777778,
             "#fb9f3a"
            ],
            [
             0.8888888888888888,
             "#fdca26"
            ],
            [
             1,
             "#f0f921"
            ]
           ],
           "sequentialminus": [
            [
             0,
             "#0d0887"
            ],
            [
             0.1111111111111111,
             "#46039f"
            ],
            [
             0.2222222222222222,
             "#7201a8"
            ],
            [
             0.3333333333333333,
             "#9c179e"
            ],
            [
             0.4444444444444444,
             "#bd3786"
            ],
            [
             0.5555555555555556,
             "#d8576b"
            ],
            [
             0.6666666666666666,
             "#ed7953"
            ],
            [
             0.7777777777777778,
             "#fb9f3a"
            ],
            [
             0.8888888888888888,
             "#fdca26"
            ],
            [
             1,
             "#f0f921"
            ]
           ]
          },
          "colorway": [
           "#636efa",
           "#EF553B",
           "#00cc96",
           "#ab63fa",
           "#FFA15A",
           "#19d3f3",
           "#FF6692",
           "#B6E880",
           "#FF97FF",
           "#FECB52"
          ],
          "font": {
           "color": "#2a3f5f"
          },
          "geo": {
           "bgcolor": "white",
           "lakecolor": "white",
           "landcolor": "#E5ECF6",
           "showlakes": true,
           "showland": true,
           "subunitcolor": "white"
          },
          "hoverlabel": {
           "align": "left"
          },
          "hovermode": "closest",
          "mapbox": {
           "style": "light"
          },
          "paper_bgcolor": "white",
          "plot_bgcolor": "#E5ECF6",
          "polar": {
           "angularaxis": {
            "gridcolor": "white",
            "linecolor": "white",
            "ticks": ""
           },
           "bgcolor": "#E5ECF6",
           "radialaxis": {
            "gridcolor": "white",
            "linecolor": "white",
            "ticks": ""
           }
          },
          "scene": {
           "xaxis": {
            "backgroundcolor": "#E5ECF6",
            "gridcolor": "white",
            "gridwidth": 2,
            "linecolor": "white",
            "showbackground": true,
            "ticks": "",
            "zerolinecolor": "white"
           },
           "yaxis": {
            "backgroundcolor": "#E5ECF6",
            "gridcolor": "white",
            "gridwidth": 2,
            "linecolor": "white",
            "showbackground": true,
            "ticks": "",
            "zerolinecolor": "white"
           },
           "zaxis": {
            "backgroundcolor": "#E5ECF6",
            "gridcolor": "white",
            "gridwidth": 2,
            "linecolor": "white",
            "showbackground": true,
            "ticks": "",
            "zerolinecolor": "white"
           }
          },
          "shapedefaults": {
           "line": {
            "color": "#2a3f5f"
           }
          },
          "ternary": {
           "aaxis": {
            "gridcolor": "white",
            "linecolor": "white",
            "ticks": ""
           },
           "baxis": {
            "gridcolor": "white",
            "linecolor": "white",
            "ticks": ""
           },
           "bgcolor": "#E5ECF6",
           "caxis": {
            "gridcolor": "white",
            "linecolor": "white",
            "ticks": ""
           }
          },
          "title": {
           "x": 0.05
          },
          "xaxis": {
           "automargin": true,
           "gridcolor": "white",
           "linecolor": "white",
           "ticks": "",
           "title": {
            "standoff": 15
           },
           "zerolinecolor": "white",
           "zerolinewidth": 2
          },
          "yaxis": {
           "automargin": true,
           "gridcolor": "white",
           "linecolor": "white",
           "ticks": "",
           "title": {
            "standoff": 15
           },
           "zerolinecolor": "white",
           "zerolinewidth": 2
          }
         }
        },
        "title": {
         "text": "Number of Views for Videos with 'Machine Learning' Keyword Published Over Time"
        },
        "xaxis": {
         "anchor": "y",
         "domain": [
          0,
          1
         ],
         "title": {
          "text": "Date Published"
         }
        },
        "yaxis": {
         "anchor": "x",
         "domain": [
          0,
          1
         ],
         "title": {
          "text": "Average Number of Views"
         }
        }
       }
      }
     },
     "metadata": {},
     "output_type": "display_data"
    }
   ],
   "source": [
    "fig = px.line(ml_grouped, y = \"Views\", labels = {\"Views\": \"Average Number of Views\", \"Published At\": \"Date Published\"}, \n",
    "        title = \"Number of Views for Videos with 'Machine Learning' Keyword Published Over Time\", \n",
    "        color_discrete_sequence = [\"#DD4477\"])\n",
    "\n",
    "fig.show()"
   ]
  },
  {
   "cell_type": "markdown",
   "id": "711877d8",
   "metadata": {},
   "source": [
    "As discussed above, we can more clearly understand what this graph is visualizing -- in 2022, when this dataset was cultivated, specific well-performing videos about maching learning that were published in 2018 and 2019 recevied far fewer views than the well-performing videos about machine learning that were published in 2020 and 2021. This could mean that in 2020 and 2021, machine learning was a hotter topic than it was in 2018 and 2019, since these well-performing (or \"viral\") videos received far more views, but it doesn't necessarily definitively mean this."
   ]
  },
  {
   "cell_type": "markdown",
   "id": "20ccc3c5",
   "metadata": {},
   "source": [
    "## Analysis and Visualization: Average Length of Title"
   ]
  },
  {
   "cell_type": "markdown",
   "id": "4dcfaf3e",
   "metadata": {},
   "source": [
    "For the final graph, I wanted to dive deeper into what could be discovered about the videos when grouping by keyword. So, I grouped the data by the `Keyword` field and visualized the average length of the video titles by keyword."
   ]
  },
  {
   "cell_type": "code",
   "execution_count": 16,
   "id": "a7c01b59",
   "metadata": {
    "scrolled": false
   },
   "outputs": [
    {
     "data": {
      "text/html": [
       "<div>\n",
       "<style scoped>\n",
       "    .dataframe tbody tr th:only-of-type {\n",
       "        vertical-align: middle;\n",
       "    }\n",
       "\n",
       "    .dataframe tbody tr th {\n",
       "        vertical-align: top;\n",
       "    }\n",
       "\n",
       "    .dataframe thead th {\n",
       "        text-align: right;\n",
       "    }\n",
       "</style>\n",
       "<table border=\"1\" class=\"dataframe\">\n",
       "  <thead>\n",
       "    <tr style=\"text-align: right;\">\n",
       "      <th></th>\n",
       "      <th>Keyword</th>\n",
       "      <th>Average Title Length</th>\n",
       "    </tr>\n",
       "  </thead>\n",
       "  <tbody>\n",
       "    <tr>\n",
       "      <th>0</th>\n",
       "      <td>animals</td>\n",
       "      <td>47.736842</td>\n",
       "    </tr>\n",
       "    <tr>\n",
       "      <th>1</th>\n",
       "      <td>business</td>\n",
       "      <td>61.687500</td>\n",
       "    </tr>\n",
       "    <tr>\n",
       "      <th>2</th>\n",
       "      <td>data science</td>\n",
       "      <td>55.860000</td>\n",
       "    </tr>\n",
       "    <tr>\n",
       "      <th>3</th>\n",
       "      <td>education</td>\n",
       "      <td>55.083333</td>\n",
       "    </tr>\n",
       "    <tr>\n",
       "      <th>4</th>\n",
       "      <td>food</td>\n",
       "      <td>63.937500</td>\n",
       "    </tr>\n",
       "  </tbody>\n",
       "</table>\n",
       "</div>"
      ],
      "text/plain": [
       "        Keyword  Average Title Length\n",
       "0       animals             47.736842\n",
       "1      business             61.687500\n",
       "2  data science             55.860000\n",
       "3     education             55.083333\n",
       "4          food             63.937500"
      ]
     },
     "execution_count": 16,
     "metadata": {},
     "output_type": "execute_result"
    }
   ],
   "source": [
    "stats_grouped = stats.groupby(\"Keyword\")[\"Title\"].apply(lambda x: np.mean(x.str.len()))\n",
    "stats_grouped = stats_grouped.reset_index(name = \"Average Title Length\")\n",
    "stats_grouped.head()"
   ]
  },
  {
   "cell_type": "code",
   "execution_count": 17,
   "id": "fc81a954",
   "metadata": {
    "scrolled": false
   },
   "outputs": [
    {
     "data": {
      "application/vnd.plotly.v1+json": {
       "config": {
        "plotlyServerURL": "https://plot.ly"
       },
       "data": [
        {
         "alignmentgroup": "True",
         "hovertemplate": "Keyword=%{x}<br>Average Title Length=%{y}<extra></extra>",
         "legendgroup": "",
         "marker": {
          "color": "#17BECF",
          "pattern": {
           "shape": ""
          }
         },
         "name": "",
         "offsetgroup": "",
         "orientation": "v",
         "showlegend": false,
         "textposition": "auto",
         "type": "bar",
         "x": [
          "animals",
          "business",
          "data science",
          "education",
          "food",
          "gaming",
          "machine learning",
          "minecraft",
          "movies",
          "mrbeast",
          "music",
          "news",
          "reaction",
          "sports",
          "tech",
          "trolling"
         ],
         "xaxis": "x",
         "y": [
          47.73684210526316,
          61.6875,
          55.86,
          55.083333333333336,
          63.9375,
          57.83720930232558,
          57.666666666666664,
          55,
          70.91111111111111,
          36.32,
          70.32608695652173,
          64.66666666666667,
          73.5,
          62.673469387755105,
          54.395833333333336,
          43.32
         ],
         "yaxis": "y"
        }
       ],
       "layout": {
        "barmode": "relative",
        "legend": {
         "tracegroupgap": 0
        },
        "template": {
         "data": {
          "bar": [
           {
            "error_x": {
             "color": "#2a3f5f"
            },
            "error_y": {
             "color": "#2a3f5f"
            },
            "marker": {
             "line": {
              "color": "#E5ECF6",
              "width": 0.5
             },
             "pattern": {
              "fillmode": "overlay",
              "size": 10,
              "solidity": 0.2
             }
            },
            "type": "bar"
           }
          ],
          "barpolar": [
           {
            "marker": {
             "line": {
              "color": "#E5ECF6",
              "width": 0.5
             },
             "pattern": {
              "fillmode": "overlay",
              "size": 10,
              "solidity": 0.2
             }
            },
            "type": "barpolar"
           }
          ],
          "carpet": [
           {
            "aaxis": {
             "endlinecolor": "#2a3f5f",
             "gridcolor": "white",
             "linecolor": "white",
             "minorgridcolor": "white",
             "startlinecolor": "#2a3f5f"
            },
            "baxis": {
             "endlinecolor": "#2a3f5f",
             "gridcolor": "white",
             "linecolor": "white",
             "minorgridcolor": "white",
             "startlinecolor": "#2a3f5f"
            },
            "type": "carpet"
           }
          ],
          "choropleth": [
           {
            "colorbar": {
             "outlinewidth": 0,
             "ticks": ""
            },
            "type": "choropleth"
           }
          ],
          "contour": [
           {
            "colorbar": {
             "outlinewidth": 0,
             "ticks": ""
            },
            "colorscale": [
             [
              0,
              "#0d0887"
             ],
             [
              0.1111111111111111,
              "#46039f"
             ],
             [
              0.2222222222222222,
              "#7201a8"
             ],
             [
              0.3333333333333333,
              "#9c179e"
             ],
             [
              0.4444444444444444,
              "#bd3786"
             ],
             [
              0.5555555555555556,
              "#d8576b"
             ],
             [
              0.6666666666666666,
              "#ed7953"
             ],
             [
              0.7777777777777778,
              "#fb9f3a"
             ],
             [
              0.8888888888888888,
              "#fdca26"
             ],
             [
              1,
              "#f0f921"
             ]
            ],
            "type": "contour"
           }
          ],
          "contourcarpet": [
           {
            "colorbar": {
             "outlinewidth": 0,
             "ticks": ""
            },
            "type": "contourcarpet"
           }
          ],
          "heatmap": [
           {
            "colorbar": {
             "outlinewidth": 0,
             "ticks": ""
            },
            "colorscale": [
             [
              0,
              "#0d0887"
             ],
             [
              0.1111111111111111,
              "#46039f"
             ],
             [
              0.2222222222222222,
              "#7201a8"
             ],
             [
              0.3333333333333333,
              "#9c179e"
             ],
             [
              0.4444444444444444,
              "#bd3786"
             ],
             [
              0.5555555555555556,
              "#d8576b"
             ],
             [
              0.6666666666666666,
              "#ed7953"
             ],
             [
              0.7777777777777778,
              "#fb9f3a"
             ],
             [
              0.8888888888888888,
              "#fdca26"
             ],
             [
              1,
              "#f0f921"
             ]
            ],
            "type": "heatmap"
           }
          ],
          "heatmapgl": [
           {
            "colorbar": {
             "outlinewidth": 0,
             "ticks": ""
            },
            "colorscale": [
             [
              0,
              "#0d0887"
             ],
             [
              0.1111111111111111,
              "#46039f"
             ],
             [
              0.2222222222222222,
              "#7201a8"
             ],
             [
              0.3333333333333333,
              "#9c179e"
             ],
             [
              0.4444444444444444,
              "#bd3786"
             ],
             [
              0.5555555555555556,
              "#d8576b"
             ],
             [
              0.6666666666666666,
              "#ed7953"
             ],
             [
              0.7777777777777778,
              "#fb9f3a"
             ],
             [
              0.8888888888888888,
              "#fdca26"
             ],
             [
              1,
              "#f0f921"
             ]
            ],
            "type": "heatmapgl"
           }
          ],
          "histogram": [
           {
            "marker": {
             "pattern": {
              "fillmode": "overlay",
              "size": 10,
              "solidity": 0.2
             }
            },
            "type": "histogram"
           }
          ],
          "histogram2d": [
           {
            "colorbar": {
             "outlinewidth": 0,
             "ticks": ""
            },
            "colorscale": [
             [
              0,
              "#0d0887"
             ],
             [
              0.1111111111111111,
              "#46039f"
             ],
             [
              0.2222222222222222,
              "#7201a8"
             ],
             [
              0.3333333333333333,
              "#9c179e"
             ],
             [
              0.4444444444444444,
              "#bd3786"
             ],
             [
              0.5555555555555556,
              "#d8576b"
             ],
             [
              0.6666666666666666,
              "#ed7953"
             ],
             [
              0.7777777777777778,
              "#fb9f3a"
             ],
             [
              0.8888888888888888,
              "#fdca26"
             ],
             [
              1,
              "#f0f921"
             ]
            ],
            "type": "histogram2d"
           }
          ],
          "histogram2dcontour": [
           {
            "colorbar": {
             "outlinewidth": 0,
             "ticks": ""
            },
            "colorscale": [
             [
              0,
              "#0d0887"
             ],
             [
              0.1111111111111111,
              "#46039f"
             ],
             [
              0.2222222222222222,
              "#7201a8"
             ],
             [
              0.3333333333333333,
              "#9c179e"
             ],
             [
              0.4444444444444444,
              "#bd3786"
             ],
             [
              0.5555555555555556,
              "#d8576b"
             ],
             [
              0.6666666666666666,
              "#ed7953"
             ],
             [
              0.7777777777777778,
              "#fb9f3a"
             ],
             [
              0.8888888888888888,
              "#fdca26"
             ],
             [
              1,
              "#f0f921"
             ]
            ],
            "type": "histogram2dcontour"
           }
          ],
          "mesh3d": [
           {
            "colorbar": {
             "outlinewidth": 0,
             "ticks": ""
            },
            "type": "mesh3d"
           }
          ],
          "parcoords": [
           {
            "line": {
             "colorbar": {
              "outlinewidth": 0,
              "ticks": ""
             }
            },
            "type": "parcoords"
           }
          ],
          "pie": [
           {
            "automargin": true,
            "type": "pie"
           }
          ],
          "scatter": [
           {
            "fillpattern": {
             "fillmode": "overlay",
             "size": 10,
             "solidity": 0.2
            },
            "type": "scatter"
           }
          ],
          "scatter3d": [
           {
            "line": {
             "colorbar": {
              "outlinewidth": 0,
              "ticks": ""
             }
            },
            "marker": {
             "colorbar": {
              "outlinewidth": 0,
              "ticks": ""
             }
            },
            "type": "scatter3d"
           }
          ],
          "scattercarpet": [
           {
            "marker": {
             "colorbar": {
              "outlinewidth": 0,
              "ticks": ""
             }
            },
            "type": "scattercarpet"
           }
          ],
          "scattergeo": [
           {
            "marker": {
             "colorbar": {
              "outlinewidth": 0,
              "ticks": ""
             }
            },
            "type": "scattergeo"
           }
          ],
          "scattergl": [
           {
            "marker": {
             "colorbar": {
              "outlinewidth": 0,
              "ticks": ""
             }
            },
            "type": "scattergl"
           }
          ],
          "scattermapbox": [
           {
            "marker": {
             "colorbar": {
              "outlinewidth": 0,
              "ticks": ""
             }
            },
            "type": "scattermapbox"
           }
          ],
          "scatterpolar": [
           {
            "marker": {
             "colorbar": {
              "outlinewidth": 0,
              "ticks": ""
             }
            },
            "type": "scatterpolar"
           }
          ],
          "scatterpolargl": [
           {
            "marker": {
             "colorbar": {
              "outlinewidth": 0,
              "ticks": ""
             }
            },
            "type": "scatterpolargl"
           }
          ],
          "scatterternary": [
           {
            "marker": {
             "colorbar": {
              "outlinewidth": 0,
              "ticks": ""
             }
            },
            "type": "scatterternary"
           }
          ],
          "surface": [
           {
            "colorbar": {
             "outlinewidth": 0,
             "ticks": ""
            },
            "colorscale": [
             [
              0,
              "#0d0887"
             ],
             [
              0.1111111111111111,
              "#46039f"
             ],
             [
              0.2222222222222222,
              "#7201a8"
             ],
             [
              0.3333333333333333,
              "#9c179e"
             ],
             [
              0.4444444444444444,
              "#bd3786"
             ],
             [
              0.5555555555555556,
              "#d8576b"
             ],
             [
              0.6666666666666666,
              "#ed7953"
             ],
             [
              0.7777777777777778,
              "#fb9f3a"
             ],
             [
              0.8888888888888888,
              "#fdca26"
             ],
             [
              1,
              "#f0f921"
             ]
            ],
            "type": "surface"
           }
          ],
          "table": [
           {
            "cells": {
             "fill": {
              "color": "#EBF0F8"
             },
             "line": {
              "color": "white"
             }
            },
            "header": {
             "fill": {
              "color": "#C8D4E3"
             },
             "line": {
              "color": "white"
             }
            },
            "type": "table"
           }
          ]
         },
         "layout": {
          "annotationdefaults": {
           "arrowcolor": "#2a3f5f",
           "arrowhead": 0,
           "arrowwidth": 1
          },
          "autotypenumbers": "strict",
          "coloraxis": {
           "colorbar": {
            "outlinewidth": 0,
            "ticks": ""
           }
          },
          "colorscale": {
           "diverging": [
            [
             0,
             "#8e0152"
            ],
            [
             0.1,
             "#c51b7d"
            ],
            [
             0.2,
             "#de77ae"
            ],
            [
             0.3,
             "#f1b6da"
            ],
            [
             0.4,
             "#fde0ef"
            ],
            [
             0.5,
             "#f7f7f7"
            ],
            [
             0.6,
             "#e6f5d0"
            ],
            [
             0.7,
             "#b8e186"
            ],
            [
             0.8,
             "#7fbc41"
            ],
            [
             0.9,
             "#4d9221"
            ],
            [
             1,
             "#276419"
            ]
           ],
           "sequential": [
            [
             0,
             "#0d0887"
            ],
            [
             0.1111111111111111,
             "#46039f"
            ],
            [
             0.2222222222222222,
             "#7201a8"
            ],
            [
             0.3333333333333333,
             "#9c179e"
            ],
            [
             0.4444444444444444,
             "#bd3786"
            ],
            [
             0.5555555555555556,
             "#d8576b"
            ],
            [
             0.6666666666666666,
             "#ed7953"
            ],
            [
             0.7777777777777778,
             "#fb9f3a"
            ],
            [
             0.8888888888888888,
             "#fdca26"
            ],
            [
             1,
             "#f0f921"
            ]
           ],
           "sequentialminus": [
            [
             0,
             "#0d0887"
            ],
            [
             0.1111111111111111,
             "#46039f"
            ],
            [
             0.2222222222222222,
             "#7201a8"
            ],
            [
             0.3333333333333333,
             "#9c179e"
            ],
            [
             0.4444444444444444,
             "#bd3786"
            ],
            [
             0.5555555555555556,
             "#d8576b"
            ],
            [
             0.6666666666666666,
             "#ed7953"
            ],
            [
             0.7777777777777778,
             "#fb9f3a"
            ],
            [
             0.8888888888888888,
             "#fdca26"
            ],
            [
             1,
             "#f0f921"
            ]
           ]
          },
          "colorway": [
           "#636efa",
           "#EF553B",
           "#00cc96",
           "#ab63fa",
           "#FFA15A",
           "#19d3f3",
           "#FF6692",
           "#B6E880",
           "#FF97FF",
           "#FECB52"
          ],
          "font": {
           "color": "#2a3f5f"
          },
          "geo": {
           "bgcolor": "white",
           "lakecolor": "white",
           "landcolor": "#E5ECF6",
           "showlakes": true,
           "showland": true,
           "subunitcolor": "white"
          },
          "hoverlabel": {
           "align": "left"
          },
          "hovermode": "closest",
          "mapbox": {
           "style": "light"
          },
          "paper_bgcolor": "white",
          "plot_bgcolor": "#E5ECF6",
          "polar": {
           "angularaxis": {
            "gridcolor": "white",
            "linecolor": "white",
            "ticks": ""
           },
           "bgcolor": "#E5ECF6",
           "radialaxis": {
            "gridcolor": "white",
            "linecolor": "white",
            "ticks": ""
           }
          },
          "scene": {
           "xaxis": {
            "backgroundcolor": "#E5ECF6",
            "gridcolor": "white",
            "gridwidth": 2,
            "linecolor": "white",
            "showbackground": true,
            "ticks": "",
            "zerolinecolor": "white"
           },
           "yaxis": {
            "backgroundcolor": "#E5ECF6",
            "gridcolor": "white",
            "gridwidth": 2,
            "linecolor": "white",
            "showbackground": true,
            "ticks": "",
            "zerolinecolor": "white"
           },
           "zaxis": {
            "backgroundcolor": "#E5ECF6",
            "gridcolor": "white",
            "gridwidth": 2,
            "linecolor": "white",
            "showbackground": true,
            "ticks": "",
            "zerolinecolor": "white"
           }
          },
          "shapedefaults": {
           "line": {
            "color": "#2a3f5f"
           }
          },
          "ternary": {
           "aaxis": {
            "gridcolor": "white",
            "linecolor": "white",
            "ticks": ""
           },
           "baxis": {
            "gridcolor": "white",
            "linecolor": "white",
            "ticks": ""
           },
           "bgcolor": "#E5ECF6",
           "caxis": {
            "gridcolor": "white",
            "linecolor": "white",
            "ticks": ""
           }
          },
          "title": {
           "x": 0.05
          },
          "xaxis": {
           "automargin": true,
           "gridcolor": "white",
           "linecolor": "white",
           "ticks": "",
           "title": {
            "standoff": 15
           },
           "zerolinecolor": "white",
           "zerolinewidth": 2
          },
          "yaxis": {
           "automargin": true,
           "gridcolor": "white",
           "linecolor": "white",
           "ticks": "",
           "title": {
            "standoff": 15
           },
           "zerolinecolor": "white",
           "zerolinewidth": 2
          }
         }
        },
        "title": {
         "text": "Average Title Length in Characters of Videos Grouped By Keyword"
        },
        "xaxis": {
         "anchor": "y",
         "domain": [
          0,
          1
         ],
         "title": {
          "text": "Keyword"
         }
        },
        "yaxis": {
         "anchor": "x",
         "domain": [
          0,
          1
         ],
         "title": {
          "text": "Average Title Length"
         }
        }
       }
      }
     },
     "metadata": {},
     "output_type": "display_data"
    }
   ],
   "source": [
    "fig = px.bar(stats_grouped, x = \"Keyword\", y = \"Average Title Length\", \n",
    "       color_discrete_sequence = [px.colors.qualitative.D3[9]],\n",
    "       title = \"Average Title Length in Characters of Videos Grouped By Keyword\")\n",
    "\n",
    "fig.show()"
   ]
  },
  {
   "cell_type": "code",
   "execution_count": 18,
   "id": "26fc2bdf",
   "metadata": {},
   "outputs": [
    {
     "data": {
      "application/vnd.plotly.v1+json": {
       "config": {
        "plotlyServerURL": "https://plot.ly"
       },
       "data": [
        {
         "alignmentgroup": "True",
         "bingroup": "x",
         "histnorm": "probability density",
         "hovertemplate": "Average Title Length=%{x}<br>probability density=%{y}<extra></extra>",
         "legendgroup": "",
         "marker": {
          "color": "#FECB52",
          "pattern": {
           "shape": ""
          }
         },
         "name": "",
         "offsetgroup": "",
         "orientation": "v",
         "showlegend": false,
         "type": "histogram",
         "x": [
          47.73684210526316,
          61.6875,
          55.86,
          55.083333333333336,
          63.9375,
          57.83720930232558,
          57.666666666666664,
          55,
          70.91111111111111,
          36.32,
          70.32608695652173,
          64.66666666666667,
          73.5,
          62.673469387755105,
          54.395833333333336,
          43.32
         ],
         "xaxis": "x",
         "yaxis": "y"
        }
       ],
       "layout": {
        "barmode": "relative",
        "legend": {
         "tracegroupgap": 0
        },
        "template": {
         "data": {
          "bar": [
           {
            "error_x": {
             "color": "#2a3f5f"
            },
            "error_y": {
             "color": "#2a3f5f"
            },
            "marker": {
             "line": {
              "color": "#E5ECF6",
              "width": 0.5
             },
             "pattern": {
              "fillmode": "overlay",
              "size": 10,
              "solidity": 0.2
             }
            },
            "type": "bar"
           }
          ],
          "barpolar": [
           {
            "marker": {
             "line": {
              "color": "#E5ECF6",
              "width": 0.5
             },
             "pattern": {
              "fillmode": "overlay",
              "size": 10,
              "solidity": 0.2
             }
            },
            "type": "barpolar"
           }
          ],
          "carpet": [
           {
            "aaxis": {
             "endlinecolor": "#2a3f5f",
             "gridcolor": "white",
             "linecolor": "white",
             "minorgridcolor": "white",
             "startlinecolor": "#2a3f5f"
            },
            "baxis": {
             "endlinecolor": "#2a3f5f",
             "gridcolor": "white",
             "linecolor": "white",
             "minorgridcolor": "white",
             "startlinecolor": "#2a3f5f"
            },
            "type": "carpet"
           }
          ],
          "choropleth": [
           {
            "colorbar": {
             "outlinewidth": 0,
             "ticks": ""
            },
            "type": "choropleth"
           }
          ],
          "contour": [
           {
            "colorbar": {
             "outlinewidth": 0,
             "ticks": ""
            },
            "colorscale": [
             [
              0,
              "#0d0887"
             ],
             [
              0.1111111111111111,
              "#46039f"
             ],
             [
              0.2222222222222222,
              "#7201a8"
             ],
             [
              0.3333333333333333,
              "#9c179e"
             ],
             [
              0.4444444444444444,
              "#bd3786"
             ],
             [
              0.5555555555555556,
              "#d8576b"
             ],
             [
              0.6666666666666666,
              "#ed7953"
             ],
             [
              0.7777777777777778,
              "#fb9f3a"
             ],
             [
              0.8888888888888888,
              "#fdca26"
             ],
             [
              1,
              "#f0f921"
             ]
            ],
            "type": "contour"
           }
          ],
          "contourcarpet": [
           {
            "colorbar": {
             "outlinewidth": 0,
             "ticks": ""
            },
            "type": "contourcarpet"
           }
          ],
          "heatmap": [
           {
            "colorbar": {
             "outlinewidth": 0,
             "ticks": ""
            },
            "colorscale": [
             [
              0,
              "#0d0887"
             ],
             [
              0.1111111111111111,
              "#46039f"
             ],
             [
              0.2222222222222222,
              "#7201a8"
             ],
             [
              0.3333333333333333,
              "#9c179e"
             ],
             [
              0.4444444444444444,
              "#bd3786"
             ],
             [
              0.5555555555555556,
              "#d8576b"
             ],
             [
              0.6666666666666666,
              "#ed7953"
             ],
             [
              0.7777777777777778,
              "#fb9f3a"
             ],
             [
              0.8888888888888888,
              "#fdca26"
             ],
             [
              1,
              "#f0f921"
             ]
            ],
            "type": "heatmap"
           }
          ],
          "heatmapgl": [
           {
            "colorbar": {
             "outlinewidth": 0,
             "ticks": ""
            },
            "colorscale": [
             [
              0,
              "#0d0887"
             ],
             [
              0.1111111111111111,
              "#46039f"
             ],
             [
              0.2222222222222222,
              "#7201a8"
             ],
             [
              0.3333333333333333,
              "#9c179e"
             ],
             [
              0.4444444444444444,
              "#bd3786"
             ],
             [
              0.5555555555555556,
              "#d8576b"
             ],
             [
              0.6666666666666666,
              "#ed7953"
             ],
             [
              0.7777777777777778,
              "#fb9f3a"
             ],
             [
              0.8888888888888888,
              "#fdca26"
             ],
             [
              1,
              "#f0f921"
             ]
            ],
            "type": "heatmapgl"
           }
          ],
          "histogram": [
           {
            "marker": {
             "pattern": {
              "fillmode": "overlay",
              "size": 10,
              "solidity": 0.2
             }
            },
            "type": "histogram"
           }
          ],
          "histogram2d": [
           {
            "colorbar": {
             "outlinewidth": 0,
             "ticks": ""
            },
            "colorscale": [
             [
              0,
              "#0d0887"
             ],
             [
              0.1111111111111111,
              "#46039f"
             ],
             [
              0.2222222222222222,
              "#7201a8"
             ],
             [
              0.3333333333333333,
              "#9c179e"
             ],
             [
              0.4444444444444444,
              "#bd3786"
             ],
             [
              0.5555555555555556,
              "#d8576b"
             ],
             [
              0.6666666666666666,
              "#ed7953"
             ],
             [
              0.7777777777777778,
              "#fb9f3a"
             ],
             [
              0.8888888888888888,
              "#fdca26"
             ],
             [
              1,
              "#f0f921"
             ]
            ],
            "type": "histogram2d"
           }
          ],
          "histogram2dcontour": [
           {
            "colorbar": {
             "outlinewidth": 0,
             "ticks": ""
            },
            "colorscale": [
             [
              0,
              "#0d0887"
             ],
             [
              0.1111111111111111,
              "#46039f"
             ],
             [
              0.2222222222222222,
              "#7201a8"
             ],
             [
              0.3333333333333333,
              "#9c179e"
             ],
             [
              0.4444444444444444,
              "#bd3786"
             ],
             [
              0.5555555555555556,
              "#d8576b"
             ],
             [
              0.6666666666666666,
              "#ed7953"
             ],
             [
              0.7777777777777778,
              "#fb9f3a"
             ],
             [
              0.8888888888888888,
              "#fdca26"
             ],
             [
              1,
              "#f0f921"
             ]
            ],
            "type": "histogram2dcontour"
           }
          ],
          "mesh3d": [
           {
            "colorbar": {
             "outlinewidth": 0,
             "ticks": ""
            },
            "type": "mesh3d"
           }
          ],
          "parcoords": [
           {
            "line": {
             "colorbar": {
              "outlinewidth": 0,
              "ticks": ""
             }
            },
            "type": "parcoords"
           }
          ],
          "pie": [
           {
            "automargin": true,
            "type": "pie"
           }
          ],
          "scatter": [
           {
            "fillpattern": {
             "fillmode": "overlay",
             "size": 10,
             "solidity": 0.2
            },
            "type": "scatter"
           }
          ],
          "scatter3d": [
           {
            "line": {
             "colorbar": {
              "outlinewidth": 0,
              "ticks": ""
             }
            },
            "marker": {
             "colorbar": {
              "outlinewidth": 0,
              "ticks": ""
             }
            },
            "type": "scatter3d"
           }
          ],
          "scattercarpet": [
           {
            "marker": {
             "colorbar": {
              "outlinewidth": 0,
              "ticks": ""
             }
            },
            "type": "scattercarpet"
           }
          ],
          "scattergeo": [
           {
            "marker": {
             "colorbar": {
              "outlinewidth": 0,
              "ticks": ""
             }
            },
            "type": "scattergeo"
           }
          ],
          "scattergl": [
           {
            "marker": {
             "colorbar": {
              "outlinewidth": 0,
              "ticks": ""
             }
            },
            "type": "scattergl"
           }
          ],
          "scattermapbox": [
           {
            "marker": {
             "colorbar": {
              "outlinewidth": 0,
              "ticks": ""
             }
            },
            "type": "scattermapbox"
           }
          ],
          "scatterpolar": [
           {
            "marker": {
             "colorbar": {
              "outlinewidth": 0,
              "ticks": ""
             }
            },
            "type": "scatterpolar"
           }
          ],
          "scatterpolargl": [
           {
            "marker": {
             "colorbar": {
              "outlinewidth": 0,
              "ticks": ""
             }
            },
            "type": "scatterpolargl"
           }
          ],
          "scatterternary": [
           {
            "marker": {
             "colorbar": {
              "outlinewidth": 0,
              "ticks": ""
             }
            },
            "type": "scatterternary"
           }
          ],
          "surface": [
           {
            "colorbar": {
             "outlinewidth": 0,
             "ticks": ""
            },
            "colorscale": [
             [
              0,
              "#0d0887"
             ],
             [
              0.1111111111111111,
              "#46039f"
             ],
             [
              0.2222222222222222,
              "#7201a8"
             ],
             [
              0.3333333333333333,
              "#9c179e"
             ],
             [
              0.4444444444444444,
              "#bd3786"
             ],
             [
              0.5555555555555556,
              "#d8576b"
             ],
             [
              0.6666666666666666,
              "#ed7953"
             ],
             [
              0.7777777777777778,
              "#fb9f3a"
             ],
             [
              0.8888888888888888,
              "#fdca26"
             ],
             [
              1,
              "#f0f921"
             ]
            ],
            "type": "surface"
           }
          ],
          "table": [
           {
            "cells": {
             "fill": {
              "color": "#EBF0F8"
             },
             "line": {
              "color": "white"
             }
            },
            "header": {
             "fill": {
              "color": "#C8D4E3"
             },
             "line": {
              "color": "white"
             }
            },
            "type": "table"
           }
          ]
         },
         "layout": {
          "annotationdefaults": {
           "arrowcolor": "#2a3f5f",
           "arrowhead": 0,
           "arrowwidth": 1
          },
          "autotypenumbers": "strict",
          "coloraxis": {
           "colorbar": {
            "outlinewidth": 0,
            "ticks": ""
           }
          },
          "colorscale": {
           "diverging": [
            [
             0,
             "#8e0152"
            ],
            [
             0.1,
             "#c51b7d"
            ],
            [
             0.2,
             "#de77ae"
            ],
            [
             0.3,
             "#f1b6da"
            ],
            [
             0.4,
             "#fde0ef"
            ],
            [
             0.5,
             "#f7f7f7"
            ],
            [
             0.6,
             "#e6f5d0"
            ],
            [
             0.7,
             "#b8e186"
            ],
            [
             0.8,
             "#7fbc41"
            ],
            [
             0.9,
             "#4d9221"
            ],
            [
             1,
             "#276419"
            ]
           ],
           "sequential": [
            [
             0,
             "#0d0887"
            ],
            [
             0.1111111111111111,
             "#46039f"
            ],
            [
             0.2222222222222222,
             "#7201a8"
            ],
            [
             0.3333333333333333,
             "#9c179e"
            ],
            [
             0.4444444444444444,
             "#bd3786"
            ],
            [
             0.5555555555555556,
             "#d8576b"
            ],
            [
             0.6666666666666666,
             "#ed7953"
            ],
            [
             0.7777777777777778,
             "#fb9f3a"
            ],
            [
             0.8888888888888888,
             "#fdca26"
            ],
            [
             1,
             "#f0f921"
            ]
           ],
           "sequentialminus": [
            [
             0,
             "#0d0887"
            ],
            [
             0.1111111111111111,
             "#46039f"
            ],
            [
             0.2222222222222222,
             "#7201a8"
            ],
            [
             0.3333333333333333,
             "#9c179e"
            ],
            [
             0.4444444444444444,
             "#bd3786"
            ],
            [
             0.5555555555555556,
             "#d8576b"
            ],
            [
             0.6666666666666666,
             "#ed7953"
            ],
            [
             0.7777777777777778,
             "#fb9f3a"
            ],
            [
             0.8888888888888888,
             "#fdca26"
            ],
            [
             1,
             "#f0f921"
            ]
           ]
          },
          "colorway": [
           "#636efa",
           "#EF553B",
           "#00cc96",
           "#ab63fa",
           "#FFA15A",
           "#19d3f3",
           "#FF6692",
           "#B6E880",
           "#FF97FF",
           "#FECB52"
          ],
          "font": {
           "color": "#2a3f5f"
          },
          "geo": {
           "bgcolor": "white",
           "lakecolor": "white",
           "landcolor": "#E5ECF6",
           "showlakes": true,
           "showland": true,
           "subunitcolor": "white"
          },
          "hoverlabel": {
           "align": "left"
          },
          "hovermode": "closest",
          "mapbox": {
           "style": "light"
          },
          "paper_bgcolor": "white",
          "plot_bgcolor": "#E5ECF6",
          "polar": {
           "angularaxis": {
            "gridcolor": "white",
            "linecolor": "white",
            "ticks": ""
           },
           "bgcolor": "#E5ECF6",
           "radialaxis": {
            "gridcolor": "white",
            "linecolor": "white",
            "ticks": ""
           }
          },
          "scene": {
           "xaxis": {
            "backgroundcolor": "#E5ECF6",
            "gridcolor": "white",
            "gridwidth": 2,
            "linecolor": "white",
            "showbackground": true,
            "ticks": "",
            "zerolinecolor": "white"
           },
           "yaxis": {
            "backgroundcolor": "#E5ECF6",
            "gridcolor": "white",
            "gridwidth": 2,
            "linecolor": "white",
            "showbackground": true,
            "ticks": "",
            "zerolinecolor": "white"
           },
           "zaxis": {
            "backgroundcolor": "#E5ECF6",
            "gridcolor": "white",
            "gridwidth": 2,
            "linecolor": "white",
            "showbackground": true,
            "ticks": "",
            "zerolinecolor": "white"
           }
          },
          "shapedefaults": {
           "line": {
            "color": "#2a3f5f"
           }
          },
          "ternary": {
           "aaxis": {
            "gridcolor": "white",
            "linecolor": "white",
            "ticks": ""
           },
           "baxis": {
            "gridcolor": "white",
            "linecolor": "white",
            "ticks": ""
           },
           "bgcolor": "#E5ECF6",
           "caxis": {
            "gridcolor": "white",
            "linecolor": "white",
            "ticks": ""
           }
          },
          "title": {
           "x": 0.05
          },
          "xaxis": {
           "automargin": true,
           "gridcolor": "white",
           "linecolor": "white",
           "ticks": "",
           "title": {
            "standoff": 15
           },
           "zerolinecolor": "white",
           "zerolinewidth": 2
          },
          "yaxis": {
           "automargin": true,
           "gridcolor": "white",
           "linecolor": "white",
           "ticks": "",
           "title": {
            "standoff": 15
           },
           "zerolinecolor": "white",
           "zerolinewidth": 2
          }
         }
        },
        "title": {
         "text": "Distribution of Average YouTube Video Title Length"
        },
        "xaxis": {
         "anchor": "y",
         "domain": [
          0,
          1
         ],
         "title": {
          "text": "Average Title Length"
         }
        },
        "yaxis": {
         "anchor": "x",
         "domain": [
          0,
          1
         ],
         "title": {
          "text": "probability density"
         }
        }
       }
      }
     },
     "metadata": {},
     "output_type": "display_data"
    }
   ],
   "source": [
    "fig = px.histogram(stats_grouped, \"Average Title Length\", histnorm = \"probability density\", \n",
    "             color_discrete_sequence = [px.colors.qualitative.Plotly[9]], labels = {\"probability density\": \n",
    "             \"Probability Density\"}, title = \"Distribution of Average YouTube Video Title Length\")\n",
    "\n",
    "fig.show()"
   ]
  },
  {
   "cell_type": "markdown",
   "id": "5fc3466b",
   "metadata": {},
   "source": [
    "From the graph above in yellow, we see that for the videos in this dataset, the video title length ranges from 30 characters to 80 characters, with the average title length being between 50 and 60 characters. This is insightful for our graph showing the title length grouped by keyword, as it tells us which categories are on the lower end and which are on the higher end.\n",
    "\n",
    "Videos with the keywords `mrbeast` or `trolling` seem to have the shortest average title lengths, which makes sense when considering the typical audience of these videos. From my own personal experience, these types of videos are typically targeted more towards younger audiences, so their titles might be shorter in order to hook the audience into the premise of the video.\n",
    "\n",
    "Meanhile, videos with the keywords `reaction` or `movies` tend to have longer video titles on average, which lines up with what their content might be -- in order to be as descriptive as possible in what videos, movies, or content they're reacting to or discussing, they likely need to include more text in their titles to capture the audiences' attention."
   ]
  },
  {
   "cell_type": "markdown",
   "id": "5d2ddd45",
   "metadata": {},
   "source": [
    "## Discoveries and Answering the Research Questions"
   ]
  },
  {
   "cell_type": "markdown",
   "id": "2bb9d53e",
   "metadata": {},
   "source": [
    "As stated in the introduction, there were a few primary questions I wanted to explore after taking an initial look at this dataset. Our answers to these questions and discoveries are as follows:\n",
    "\n",
    "- **Is there any basic relationship between the number of likes and comments?**\n",
    "    - From the visualization that we created, we can see that there does appear to be a **positive correlation between these two values**, which is likely what one would expect -- the more views a video has, the more comments it is likely to have as well.\n",
    "\n",
    "- **What can we find when taking a look at the `machine learning` keyword in the YouTube search?**\n",
    "    - We visualized a time-series analysis of the videos published with the `machine learning` keyword, and while it is difficult to say definitively how the overall interest in this topic changed over time (due to the granularity of our data being individual videos, rather than individual days with the total views for each keyword as a metric), **our graph depicted higher spikes in view counts for the \"viral\"/well-performing videos about machine learning in 2020 and 2021**, as compared to 2018 and 2019.\n",
    "\n",
    "- **What information can we discover when we group our data together by keyword?**\n",
    "    - We took a look at the average video title length grouped by keyword and discovered that, on average, videos with the keywords `mrbeast` and `trolling` had the shortest video title lengths, while videos with the keywords `reaction` and `movies` had the longest video title lengths."
   ]
  },
  {
   "cell_type": "markdown",
   "id": "0bd6fdb1",
   "metadata": {},
   "source": [
    "This was just a basic project looking into this data, but if I were to dedicate more time to this research topic (or had slightly different data available), I would be interested in more time-series analysis for a wider range of video topics. This could have practical applications for individuals who are consistent viewers or content creators on YouTube, as it would help them visualize which topics are doing well on YouTube at a given time."
   ]
  }
 ],
 "metadata": {
  "kernelspec": {
   "display_name": "cuda-gpt",
   "language": "python",
   "name": "cuda"
  },
  "language_info": {
   "codemirror_mode": {
    "name": "ipython",
    "version": 3
   },
   "file_extension": ".py",
   "mimetype": "text/x-python",
   "name": "python",
   "nbconvert_exporter": "python",
   "pygments_lexer": "ipython3",
   "version": "3.10.9"
  }
 },
 "nbformat": 4,
 "nbformat_minor": 5
}
